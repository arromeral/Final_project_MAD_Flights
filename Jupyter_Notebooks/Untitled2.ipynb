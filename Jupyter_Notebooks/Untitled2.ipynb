{
 "cells": [
  {
   "cell_type": "code",
   "execution_count": null,
   "id": "e3b4ffdb",
   "metadata": {},
   "outputs": [],
   "source": [
    "import sys\n",
    "import time\n",
    "sys.path.append('../src')\n",
    "from funpipes import *"
   ]
  },
  {
   "cell_type": "code",
   "execution_count": null,
   "id": "79169ed1",
   "metadata": {},
   "outputs": [],
   "source": [
    "%%time\n",
    "fl = procesar_datos(scrape_flightera_data(), scrape_tutiempo_data())\n",
    "fl.head()"
   ]
  },
  {
   "cell_type": "code",
   "execution_count": null,
   "id": "f894d57a",
   "metadata": {},
   "outputs": [],
   "source": [
    "fl.info()"
   ]
  }
 ],
 "metadata": {
  "kernelspec": {
   "display_name": "Python 3 (ipykernel)",
   "language": "python",
   "name": "python3"
  },
  "language_info": {
   "codemirror_mode": {
    "name": "ipython",
    "version": 3
   },
   "file_extension": ".py",
   "mimetype": "text/x-python",
   "name": "python",
   "nbconvert_exporter": "python",
   "pygments_lexer": "ipython3",
   "version": "3.11.4"
  }
 },
 "nbformat": 4,
 "nbformat_minor": 5
}
