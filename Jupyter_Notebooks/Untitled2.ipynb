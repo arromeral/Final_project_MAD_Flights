{
 "cells": [
  {
   "cell_type": "markdown",
   "id": "2da384fa",
   "metadata": {},
   "source": [
    "# Jupyter Notebook para el entrenamiento de modelos ML de Clasificación que determinen si un vuelo va a tener retraso o no"
   ]
  },
  {
   "cell_type": "markdown",
   "id": "9667c3fd",
   "metadata": {},
   "source": [
    "# Instalaciones"
   ]
  },
  {
   "cell_type": "code",
   "execution_count": 1,
   "id": "a6897340",
   "metadata": {},
   "outputs": [],
   "source": [
    "# %pip install imbalanced-learn\n",
    "# !pip install --upgrade imbalanced-learn scikit-learn\n",
    "# !pip install -U imbalanced-learn\n",
    "# !pip install -U scikit-learn"
   ]
  },
  {
   "cell_type": "markdown",
   "id": "b0f3ed41",
   "metadata": {},
   "source": [
    "# Importaciones"
   ]
  },
  {
   "cell_type": "code",
   "execution_count": 58,
   "id": "9956087f",
   "metadata": {},
   "outputs": [],
   "source": [
    "# Pre-requisites\n",
    "import pandas as pd\n",
    "import numpy as np\n",
    "import matplotlib\n",
    "import matplotlib.pyplot as plt\n",
    "%matplotlib inline\n",
    "import seaborn as sns\n",
    "# Store the classifier models to save time\n",
    "import joblib\n",
    "\n",
    "# Preprocessing\n",
    "from sklearn.preprocessing import StandardScaler \n",
    "from sklearn.model_selection import train_test_split as tts\n",
    "from imblearn.over_sampling import SMOTE\n",
    "\n",
    "# Classifiers from scikit-learn\n",
    "from sklearn.linear_model import LogisticRegression\n",
    "from sklearn.tree import DecisionTreeClassifier\n",
    "from sklearn.ensemble import GradientBoostingClassifier\n",
    "from sklearn.ensemble import RandomForestClassifier\n",
    "from sklearn.ensemble import ExtraTreesClassifier\n",
    "import xgboost as xgb\n",
    "\n",
    "# Performance metrics\n",
    "from sklearn.metrics import accuracy_score as acc\n",
    "from sklearn.metrics import precision_score as prec\n",
    "from sklearn.metrics import recall_score as rec\n",
    "from sklearn.metrics import f1_score as f1\n",
    "from sklearn.metrics import confusion_matrix as cm\n",
    "\n",
    "\n",
    "from sklearn.model_selection import GridSearchCV\n",
    "from joblib import parallel_backend"
   ]
  },
  {
   "cell_type": "code",
   "execution_count": 3,
   "id": "0f04a4eb",
   "metadata": {},
   "outputs": [],
   "source": [
    "fl = pd.read_csv(\"../data/ML/clean_data_for_ML.csv\")"
   ]
  },
  {
   "cell_type": "markdown",
   "id": "c63c7359",
   "metadata": {},
   "source": [
    "# Preparación de variables para el modelo"
   ]
  },
  {
   "cell_type": "code",
   "execution_count": 4,
   "id": "94000900",
   "metadata": {},
   "outputs": [],
   "source": [
    "fl = fl[fl.duration.notna()]"
   ]
  },
  {
   "cell_type": "code",
   "execution_count": 5,
   "id": "2943473a",
   "metadata": {},
   "outputs": [
    {
     "data": {
      "text/plain": [
       "Index(['arr_mins_of_delay', 'week_day', 'week_num', 'day_time',\n",
       "       'cod_flight_IATA', 'cod_airliner_IATA', 'cod_airport_IATA', 'duration',\n",
       "       'Temperature', 'Wind', 'acc_Gusts', 'Relative_hum', 'Pressure',\n",
       "       'Condition', 'acc_bad_weather'],\n",
       "      dtype='object')"
      ]
     },
     "execution_count": 5,
     "metadata": {},
     "output_type": "execute_result"
    }
   ],
   "source": [
    "fl.columns"
   ]
  },
  {
   "cell_type": "markdown",
   "id": "885f4bbb",
   "metadata": {},
   "source": [
    "## Elimino columnas de baja correlación o con demasiados valores que pueden provocar overfitting en los modelos"
   ]
  },
  {
   "cell_type": "code",
   "execution_count": 6,
   "id": "a194226a",
   "metadata": {},
   "outputs": [],
   "source": [
    "fl = fl.drop(columns = ['cod_flight_IATA','Relative_hum','Pressure','cod_airport_IATA'])"
   ]
  },
  {
   "cell_type": "markdown",
   "id": "85fb1f13",
   "metadata": {},
   "source": [
    "## Genero la variable target \"Delayed\""
   ]
  },
  {
   "cell_type": "code",
   "execution_count": 7,
   "id": "3002e823",
   "metadata": {},
   "outputs": [],
   "source": [
    "fl['Delayed'] = fl['arr_mins_of_delay'].apply(lambda x: 1 if x > 0 else 0)"
   ]
  },
  {
   "cell_type": "code",
   "execution_count": 8,
   "id": "4c34afc7",
   "metadata": {},
   "outputs": [
    {
     "data": {
      "text/plain": [
       "0    0.672649\n",
       "1    0.327351\n",
       "Name: Delayed, dtype: float64"
      ]
     },
     "execution_count": 8,
     "metadata": {},
     "output_type": "execute_result"
    },
    {
     "data": {
      "image/png": "[encoded data removed]",
      "text/plain": [
       "<Figure size 1000x600 with 1 Axes>"
      ]
     },
     "metadata": {},
     "output_type": "display_data"
    }
   ],
   "source": [
    "(fl.Delayed.value_counts()/len(fl)).plot.bar(color=['b', 'r'],    # plot customer churn rate\n",
    "                                           figsize=(10, 6),\n",
    "                                           title='Delayed Rate',\n",
    "                                           rot=0,\n",
    "                                           fontsize=12);\n",
    "\n",
    "\n",
    "fl.Delayed.value_counts()/len(fl)"
   ]
  },
  {
   "cell_type": "markdown",
   "id": "4562dd42",
   "metadata": {},
   "source": [
    "## Correlaciones"
   ]
  },
  {
   "cell_type": "code",
   "execution_count": 9,
   "id": "e667a79e",
   "metadata": {},
   "outputs": [
    {
     "name": "stderr",
     "output_type": "stream",
     "text": [
      "C:\\Users\\daarr\\AppData\\Local\\Temp\\ipykernel_18732\\3013328059.py:1: FutureWarning: The default value of numeric_only in DataFrame.corr is deprecated. In a future version, it will default to False. Select only valid columns or specify the value of numeric_only to silence this warning.\n",
      "  corr=fl.corr()   # correlation matrix\n"
     ]
    },
    {
     "data": {
      "text/html": [
       "<div>\n",
       "<style scoped>\n",
       "    .dataframe tbody tr th:only-of-type {\n",
       "        vertical-align: middle;\n",
       "    }\n",
       "\n",
       "    .dataframe tbody tr th {\n",
       "        vertical-align: top;\n",
       "    }\n",
       "\n",
       "    .dataframe thead th {\n",
       "        text-align: right;\n",
       "    }\n",
       "</style>\n",
       "<table border=\"1\" class=\"dataframe\">\n",
       "  <thead>\n",
       "    <tr style=\"text-align: right;\">\n",
       "      <th></th>\n",
       "      <th>arr_mins_of_delay</th>\n",
       "      <th>week_num</th>\n",
       "      <th>duration</th>\n",
       "      <th>Temperature</th>\n",
       "      <th>Wind</th>\n",
       "      <th>acc_Gusts</th>\n",
       "      <th>acc_bad_weather</th>\n",
       "      <th>Delayed</th>\n",
       "    </tr>\n",
       "  </thead>\n",
       "  <tbody>\n",
       "    <tr>\n",
       "      <th>arr_mins_of_delay</th>\n",
       "      <td>1.000000</td>\n",
       "      <td>0.010288</td>\n",
       "      <td>-0.025159</td>\n",
       "      <td>0.051942</td>\n",
       "      <td>0.077659</td>\n",
       "      <td>0.082185</td>\n",
       "      <td>0.075111</td>\n",
       "      <td>0.621259</td>\n",
       "    </tr>\n",
       "    <tr>\n",
       "      <th>week_num</th>\n",
       "      <td>0.010288</td>\n",
       "      <td>1.000000</td>\n",
       "      <td>0.007501</td>\n",
       "      <td>0.178952</td>\n",
       "      <td>-0.036482</td>\n",
       "      <td>-0.010524</td>\n",
       "      <td>0.023384</td>\n",
       "      <td>0.016726</td>\n",
       "    </tr>\n",
       "    <tr>\n",
       "      <th>duration</th>\n",
       "      <td>-0.025159</td>\n",
       "      <td>0.007501</td>\n",
       "      <td>1.000000</td>\n",
       "      <td>0.032352</td>\n",
       "      <td>0.000747</td>\n",
       "      <td>-0.010846</td>\n",
       "      <td>-0.001045</td>\n",
       "      <td>0.040115</td>\n",
       "    </tr>\n",
       "    <tr>\n",
       "      <th>Temperature</th>\n",
       "      <td>0.051942</td>\n",
       "      <td>0.178952</td>\n",
       "      <td>0.032352</td>\n",
       "      <td>1.000000</td>\n",
       "      <td>0.148810</td>\n",
       "      <td>0.139241</td>\n",
       "      <td>-0.127939</td>\n",
       "      <td>0.065140</td>\n",
       "    </tr>\n",
       "    <tr>\n",
       "      <th>Wind</th>\n",
       "      <td>0.077659</td>\n",
       "      <td>-0.036482</td>\n",
       "      <td>0.000747</td>\n",
       "      <td>0.148810</td>\n",
       "      <td>1.000000</td>\n",
       "      <td>0.574136</td>\n",
       "      <td>0.043563</td>\n",
       "      <td>0.089730</td>\n",
       "    </tr>\n",
       "    <tr>\n",
       "      <th>acc_Gusts</th>\n",
       "      <td>0.082185</td>\n",
       "      <td>-0.010524</td>\n",
       "      <td>-0.010846</td>\n",
       "      <td>0.139241</td>\n",
       "      <td>0.574136</td>\n",
       "      <td>1.000000</td>\n",
       "      <td>0.023857</td>\n",
       "      <td>0.090510</td>\n",
       "    </tr>\n",
       "    <tr>\n",
       "      <th>acc_bad_weather</th>\n",
       "      <td>0.075111</td>\n",
       "      <td>0.023384</td>\n",
       "      <td>-0.001045</td>\n",
       "      <td>-0.127939</td>\n",
       "      <td>0.043563</td>\n",
       "      <td>0.023857</td>\n",
       "      <td>1.000000</td>\n",
       "      <td>0.063781</td>\n",
       "    </tr>\n",
       "    <tr>\n",
       "      <th>Delayed</th>\n",
       "      <td>0.621259</td>\n",
       "      <td>0.016726</td>\n",
       "      <td>0.040115</td>\n",
       "      <td>0.065140</td>\n",
       "      <td>0.089730</td>\n",
       "      <td>0.090510</td>\n",
       "      <td>0.063781</td>\n",
       "      <td>1.000000</td>\n",
       "    </tr>\n",
       "  </tbody>\n",
       "</table>\n",
       "</div>"
      ],
      "text/plain": [
       "                   arr_mins_of_delay  week_num  duration  Temperature  \\\n",
       "arr_mins_of_delay           1.000000  0.010288 -0.025159     0.051942   \n",
       "week_num                    0.010288  1.000000  0.007501     0.178952   \n",
       "duration                   -0.025159  0.007501  1.000000     0.032352   \n",
       "Temperature                 0.051942  0.178952  0.032352     1.000000   \n",
       "Wind                        0.077659 -0.036482  0.000747     0.148810   \n",
       "acc_Gusts                   0.082185 -0.010524 -0.010846     0.139241   \n",
       "acc_bad_weather             0.075111  0.023384 -0.001045    -0.127939   \n",
       "Delayed                     0.621259  0.016726  0.040115     0.065140   \n",
       "\n",
       "                       Wind  acc_Gusts  acc_bad_weather   Delayed  \n",
       "arr_mins_of_delay  0.077659   0.082185         0.075111  0.621259  \n",
       "week_num          -0.036482  -0.010524         0.023384  0.016726  \n",
       "duration           0.000747  -0.010846        -0.001045  0.040115  \n",
       "Temperature        0.148810   0.139241        -0.127939  0.065140  \n",
       "Wind               1.000000   0.574136         0.043563  0.089730  \n",
       "acc_Gusts          0.574136   1.000000         0.023857  0.090510  \n",
       "acc_bad_weather    0.043563   0.023857         1.000000  0.063781  \n",
       "Delayed            0.089730   0.090510         0.063781  1.000000  "
      ]
     },
     "execution_count": 9,
     "metadata": {},
     "output_type": "execute_result"
    }
   ],
   "source": [
    "corr=fl.corr()   # correlation matrix\n",
    "\n",
    "corr"
   ]
  },
  {
   "cell_type": "markdown",
   "id": "1ce64fd5",
   "metadata": {},
   "source": [
    "## Cambio la columna week_num a categórica"
   ]
  },
  {
   "cell_type": "code",
   "execution_count": 10,
   "id": "47ed544e",
   "metadata": {},
   "outputs": [],
   "source": [
    "fl['week_num'] = fl['week_num'].astype('object')"
   ]
  },
  {
   "cell_type": "code",
   "execution_count": 11,
   "id": "d139ccd1",
   "metadata": {},
   "outputs": [
    {
     "data": {
      "image/png": "[encoded data removed]",
      "text/plain": [
       "<Figure size 1000x1000 with 2 Axes>"
      ]
     },
     "metadata": {},
     "output_type": "display_data"
    }
   ],
   "source": [
    "fig, ax=plt.subplots(figsize=(10,10))\n",
    "\n",
    "\n",
    "mask=np.triu(np.ones_like(corr, dtype=bool))           # mask for superior triangular matrix\n",
    "\n",
    "\n",
    "color_map=sns.diverging_palette(0, 10, as_cmap=True)   # color palette\n",
    "\n",
    "\n",
    "# correlation heatmap\n",
    "sns.heatmap(corr,                       # data\n",
    "            mask=mask,                  # white mask\n",
    "            cmap=color_map,             # color\n",
    "            vmax=1,                     # vertical edge\n",
    "            center=0,                   # plot center\n",
    "            square=True,                # data square representation\n",
    "            annot=True,\n",
    "            linewidth=.5,               # linewidth\n",
    "            cbar_kws={'shrink': .5},    # lateral bar legend\n",
    "            ax=ax                       # axes for plot size\n",
    "           );"
   ]
  },
  {
   "cell_type": "code",
   "execution_count": 12,
   "id": "b4987c7c",
   "metadata": {},
   "outputs": [],
   "source": [
    "fl = fl.drop(columns = ['arr_mins_of_delay'])"
   ]
  },
  {
   "cell_type": "markdown",
   "id": "7fcc8121",
   "metadata": {},
   "source": [
    "## One Hot Encoding"
   ]
  },
  {
   "cell_type": "code",
   "execution_count": 13,
   "id": "b33b2da8",
   "metadata": {},
   "outputs": [
    {
     "name": "stderr",
     "output_type": "stream",
     "text": [
      "C:\\Users\\daarr\\AppData\\Local\\Temp\\ipykernel_18732\\2196711668.py:1: FutureWarning: In a future version, the Index constructor will not infer numeric dtypes when passed object-dtype sequences (matching Series behavior)\n",
      "  fl=pd.get_dummies(fl, columns = ['week_num','Condition','week_day','day_time','cod_airliner_IATA'], drop_first=True)\n"
     ]
    }
   ],
   "source": [
    "fl=pd.get_dummies(fl, columns = ['week_num','Condition','week_day','day_time','cod_airliner_IATA'], drop_first=True)\n"
   ]
  },
  {
   "cell_type": "code",
   "execution_count": 14,
   "id": "faf960e2",
   "metadata": {},
   "outputs": [
    {
     "data": {
      "text/plain": [
       "0    592426\n",
       "1    288310\n",
       "Name: Delayed, dtype: int64"
      ]
     },
     "execution_count": 14,
     "metadata": {},
     "output_type": "execute_result"
    }
   ],
   "source": [
    "fl.Delayed.value_counts()"
   ]
  },
  {
   "cell_type": "code",
   "execution_count": 15,
   "id": "2ee5aaaa",
   "metadata": {},
   "outputs": [
    {
     "data": {
      "text/plain": [
       "(880736, 184)"
      ]
     },
     "execution_count": 15,
     "metadata": {},
     "output_type": "execute_result"
    }
   ],
   "source": [
    "fl.shape"
   ]
  },
  {
   "cell_type": "markdown",
   "id": "4e7a10fb",
   "metadata": {},
   "source": [
    "# División del DataFrame para el entrenamiento"
   ]
  },
  {
   "cell_type": "code",
   "execution_count": 16,
   "id": "797d868d",
   "metadata": {},
   "outputs": [],
   "source": [
    "X = fl.drop('Delayed', axis=1)\n",
    "y = fl.Delayed"
   ]
  },
  {
   "cell_type": "code",
   "execution_count": 17,
   "id": "223a0937",
   "metadata": {},
   "outputs": [
    {
     "data": {
      "text/plain": [
       "((880736, 183), (880736,))"
      ]
     },
     "execution_count": 17,
     "metadata": {},
     "output_type": "execute_result"
    }
   ],
   "source": [
    "X.shape, y.shape"
   ]
  },
  {
   "cell_type": "code",
   "execution_count": 18,
   "id": "f1cc2550",
   "metadata": {},
   "outputs": [
    {
     "name": "stdout",
     "output_type": "stream",
     "text": [
      "<class 'pandas.core.frame.DataFrame'>\n",
      "Int64Index: 880736 entries, 0 to 880761\n",
      "Columns: 183 entries, duration to cod_airliner_IATA_YW\n",
      "dtypes: float64(3), int64(2), uint8(178)\n",
      "memory usage: 189.8 MB\n"
     ]
    }
   ],
   "source": [
    "X.info()"
   ]
  },
  {
   "cell_type": "code",
   "execution_count": 19,
   "id": "7e95c42d",
   "metadata": {},
   "outputs": [],
   "source": [
    "# stratify mantiene la distribucion del objetivo\n",
    "X_train, X_test, y_train, y_test = tts(X, y, \n",
    "                                       random_state=42,\n",
    "                                       stratify=y)"
   ]
  },
  {
   "cell_type": "markdown",
   "id": "9b7972fe",
   "metadata": {},
   "source": [
    "# Normalización de las variables numéricas"
   ]
  },
  {
   "cell_type": "code",
   "execution_count": 20,
   "id": "3825f6d3",
   "metadata": {},
   "outputs": [],
   "source": [
    "escalador = StandardScaler()    # inicia el normalizador\n",
    " \n",
    "X_train[['duration','Temperature', 'Wind', 'acc_Gusts','acc_bad_weather']] = escalador.fit_transform(X_train[['duration','Temperature', 'Wind', 'acc_Gusts','acc_bad_weather']])   # transforma train\n",
    "X_test[['duration','Temperature', 'Wind', 'acc_Gusts','acc_bad_weather']] = escalador.transform(X_test[['duration','Temperature', 'Wind', 'acc_Gusts','acc_bad_weather']])  # transforma test"
   ]
  },
  {
   "cell_type": "markdown",
   "id": "1165bd89",
   "metadata": {},
   "source": [
    "# Aplico SMOTE (Synthetic Minority over-sampling Technique) para equilibrar la diferencia entre clases"
   ]
  },
  {
   "cell_type": "code",
   "execution_count": 21,
   "id": "f92194fb",
   "metadata": {},
   "outputs": [],
   "source": [
    "# Aplicar SMOTE al conjunto de entrenamiento\n",
    "smote = SMOTE(sampling_strategy='auto', random_state=42)\n",
    "X_resampled, y_resampled = smote.fit_resample(X_train, y_train)"
   ]
  },
  {
   "cell_type": "code",
   "execution_count": 22,
   "id": "8e0871f1",
   "metadata": {},
   "outputs": [
    {
     "data": {
      "text/plain": [
       "(660552, 183)"
      ]
     },
     "execution_count": 22,
     "metadata": {},
     "output_type": "execute_result"
    }
   ],
   "source": [
    "X_train.shape"
   ]
  },
  {
   "cell_type": "code",
   "execution_count": 23,
   "id": "c40a958d",
   "metadata": {},
   "outputs": [
    {
     "data": {
      "text/plain": [
       "(888638, 183)"
      ]
     },
     "execution_count": 23,
     "metadata": {},
     "output_type": "execute_result"
    }
   ],
   "source": [
    "X_resampled.shape"
   ]
  },
  {
   "cell_type": "markdown",
   "id": "fa7beea0",
   "metadata": {},
   "source": [
    "# Ensayo de diferentes modelos de regresión"
   ]
  },
  {
   "cell_type": "markdown",
   "id": "ceafeb68",
   "metadata": {},
   "source": [
    "# Logistic Regression"
   ]
  },
  {
   "cell_type": "code",
   "execution_count": 24,
   "id": "99bcd10f",
   "metadata": {},
   "outputs": [],
   "source": [
    "# logreg = LogisticRegression(n_jobs=8)\n"
   ]
  },
  {
   "cell_type": "code",
   "execution_count": 25,
   "id": "d7a734bc",
   "metadata": {},
   "outputs": [],
   "source": [
    "# logreg.fit(X_train, y_train)"
   ]
  },
  {
   "cell_type": "code",
   "execution_count": 26,
   "id": "602148d9",
   "metadata": {},
   "outputs": [],
   "source": [
    "# y_pred_logreg = logreg.predict(X_test)\n",
    "\n",
    "# y_pred_logreg[:10]"
   ]
  },
  {
   "cell_type": "code",
   "execution_count": 27,
   "id": "5c63fecb",
   "metadata": {},
   "outputs": [],
   "source": [
    "# y_test.head(10)\n"
   ]
  },
  {
   "cell_type": "code",
   "execution_count": 28,
   "id": "d4a60eb4",
   "metadata": {},
   "outputs": [],
   "source": [
    "# print(\"Score: \",logreg.score(X_test, y_test))\n",
    "# print(\"Precission: \",prec(y_test, y_pred_logreg))\n",
    "# print(\"Accuracy: \",acc(y_test, y_pred_logreg))\n",
    "# print(\"Recall: \",rec(y_test, y_pred_logreg))\n",
    "# print(\"F1: \",f1(y_test, y_pred_logreg))"
   ]
  },
  {
   "cell_type": "code",
   "execution_count": 29,
   "id": "4ce7f93c",
   "metadata": {},
   "outputs": [],
   "source": [
    "# y_test.value_counts() / y_test.shape[0] * 100"
   ]
  },
  {
   "cell_type": "code",
   "execution_count": 30,
   "id": "77ccd56d",
   "metadata": {},
   "outputs": [],
   "source": [
    "# y_prob = logreg.predict_proba(X_test)\n",
    "# y_prob[:10]"
   ]
  },
  {
   "cell_type": "code",
   "execution_count": 31,
   "id": "69d5cffa",
   "metadata": {},
   "outputs": [],
   "source": [
    "# y_pred_logreg2 = [1 if e[1]>0.3 else 0 for e in y_prob]\n",
    "\n",
    "# sum(y_pred_logreg2==y_test) / len(y_pred_logreg2) * 100   # acierto, accuracy"
   ]
  },
  {
   "cell_type": "code",
   "execution_count": 32,
   "id": "23f4cb19",
   "metadata": {},
   "outputs": [],
   "source": [
    "# sum(y_pred_logreg2)"
   ]
  },
  {
   "cell_type": "code",
   "execution_count": 33,
   "id": "026aaff7",
   "metadata": {},
   "outputs": [],
   "source": [
    "# cm(y_test, y_pred_logreg2)\n",
    "# cm(y_test, y_pred_logreg2)/cm(y_test, y_pred_logreg2).sum()*100\n",
    "# plt.figure(figsize=(15, 8))\n",
    "\n",
    "# ax=sns.heatmap(cm(y_test, y_pred_logreg2)/cm(y_test, y_pred_logreg2).sum() * 100, \n",
    "#                annot=True)\n",
    "\n",
    "# plt.title('Matriz confusion')\n",
    "# plt.ylabel('Verdad')\n",
    "# plt.xlabel('Prediccion')\n",
    "# plt.show();"
   ]
  },
  {
   "cell_type": "markdown",
   "id": "3e753aa2",
   "metadata": {},
   "source": [
    "# XGBOOST"
   ]
  },
  {
   "cell_type": "code",
   "execution_count": 34,
   "id": "3177256e",
   "metadata": {},
   "outputs": [],
   "source": [
    "# xgbc = xgb.XGBClassifier(n_jobs = 8)"
   ]
  },
  {
   "cell_type": "code",
   "execution_count": 35,
   "id": "0e4bc456",
   "metadata": {},
   "outputs": [],
   "source": [
    "# xgbc.fit(X_train, y_train)"
   ]
  },
  {
   "cell_type": "code",
   "execution_count": 36,
   "id": "f5bfcc17",
   "metadata": {},
   "outputs": [],
   "source": [
    "# y_pred_xgb = xgbc.predict(X_test)\n",
    "\n",
    "# y_pred_xgb[:10]"
   ]
  },
  {
   "cell_type": "code",
   "execution_count": 37,
   "id": "f7faf112",
   "metadata": {},
   "outputs": [],
   "source": [
    "# print(\"Score: \",xgbc.score(X_test, y_test))\n",
    "# print(\"Precission: \",prec(y_test, y_pred_xgb))\n",
    "# print(\"Accuracy: \",acc(y_test, y_pred_xgb))\n",
    "# print(\"Recall: \",rec(y_test, y_pred_xgb))\n",
    "# print(\"F1: \",f1(y_test, y_pred_xgb))"
   ]
  },
  {
   "cell_type": "code",
   "execution_count": 38,
   "id": "c7d6be91",
   "metadata": {},
   "outputs": [],
   "source": [
    "# y_prob = xgbc.predict_proba(X_test)"
   ]
  },
  {
   "cell_type": "code",
   "execution_count": 39,
   "id": "6943a588",
   "metadata": {},
   "outputs": [],
   "source": [
    "# y_prob[:10]"
   ]
  },
  {
   "cell_type": "code",
   "execution_count": 40,
   "id": "0b49d465",
   "metadata": {},
   "outputs": [],
   "source": [
    "# y_test.head(10)"
   ]
  },
  {
   "cell_type": "code",
   "execution_count": 41,
   "id": "fda2a516",
   "metadata": {},
   "outputs": [],
   "source": [
    "# y_pred_xgb.sum()"
   ]
  },
  {
   "cell_type": "code",
   "execution_count": 42,
   "id": "4b7affd2",
   "metadata": {},
   "outputs": [],
   "source": [
    "# cm(y_test, y_pred_xgb)\n",
    "# cm(y_test, y_pred_xgb)/cm(y_test, y_pred_xgb).sum()*100\n",
    "# plt.figure(figsize=(15, 8))\n",
    "\n",
    "# ax=sns.heatmap(cm(y_test, y_pred_xgb)/cm(y_test, y_pred_xgb).sum() * 100, \n",
    "#                annot=True)\n",
    "\n",
    "# plt.title('Matriz confusion')\n",
    "# plt.ylabel('Verdad')\n",
    "# plt.xlabel('Prediccion')"
   ]
  },
  {
   "cell_type": "markdown",
   "id": "5f00ef71",
   "metadata": {},
   "source": [
    "# RandomForestClassifier"
   ]
  },
  {
   "cell_type": "code",
   "execution_count": 62,
   "id": "1da7f0eb",
   "metadata": {},
   "outputs": [],
   "source": [
    "rfc = RandomForestClassifier(n_estimators=200,\n",
    "                             min_samples_split=5,\n",
    "                             min_samples_leaf=2,\n",
    "                             n_jobs=8)\n"
   ]
  },
  {
   "cell_type": "code",
   "execution_count": 63,
   "id": "9c1dd920",
   "metadata": {},
   "outputs": [
    {
     "data": {
      "text/html": [
       "<style>#sk-container-id-1 {color: black;}#sk-container-id-1 pre{padding: 0;}#sk-container-id-1 div.sk-toggleable {background-color: white;}#sk-container-id-1 label.sk-toggleable__label {cursor: pointer;display: block;width: 100%;margin-bottom: 0;padding: 0.3em;box-sizing: border-box;text-align: center;}#sk-container-id-1 label.sk-toggleable__label-arrow:before {content: \"▸\";float: left;margin-right: 0.25em;color: #696969;}#sk-container-id-1 label.sk-toggleable__label-arrow:hover:before {color: black;}#sk-container-id-1 div.sk-estimator:hover label.sk-toggleable__label-arrow:before {color: black;}#sk-container-id-1 div.sk-toggleable__content {max-height: 0;max-width: 0;overflow: hidden;text-align: left;background-color: #f0f8ff;}#sk-container-id-1 div.sk-toggleable__content pre {margin: 0.2em;color: black;border-radius: 0.25em;background-color: #f0f8ff;}#sk-container-id-1 input.sk-toggleable__control:checked~div.sk-toggleable__content {max-height: 200px;max-width: 100%;overflow: auto;}#sk-container-id-1 input.sk-toggleable__control:checked~label.sk-toggleable__label-arrow:before {content: \"▾\";}#sk-container-id-1 div.sk-estimator input.sk-toggleable__control:checked~label.sk-toggleable__label {background-color: #d4ebff;}#sk-container-id-1 div.sk-label input.sk-toggleable__control:checked~label.sk-toggleable__label {background-color: #d4ebff;}#sk-container-id-1 input.sk-hidden--visually {border: 0;clip: rect(1px 1px 1px 1px);clip: rect(1px, 1px, 1px, 1px);height: 1px;margin: -1px;overflow: hidden;padding: 0;position: absolute;width: 1px;}#sk-container-id-1 div.sk-estimator {font-family: monospace;background-color: #f0f8ff;border: 1px dotted black;border-radius: 0.25em;box-sizing: border-box;margin-bottom: 0.5em;}#sk-container-id-1 div.sk-estimator:hover {background-color: #d4ebff;}#sk-container-id-1 div.sk-parallel-item::after {content: \"\";width: 100%;border-bottom: 1px solid gray;flex-grow: 1;}#sk-container-id-1 div.sk-label:hover label.sk-toggleable__label {background-color: #d4ebff;}#sk-container-id-1 div.sk-serial::before {content: \"\";position: absolute;border-left: 1px solid gray;box-sizing: border-box;top: 0;bottom: 0;left: 50%;z-index: 0;}#sk-container-id-1 div.sk-serial {display: flex;flex-direction: column;align-items: center;background-color: white;padding-right: 0.2em;padding-left: 0.2em;position: relative;}#sk-container-id-1 div.sk-item {position: relative;z-index: 1;}#sk-container-id-1 div.sk-parallel {display: flex;align-items: stretch;justify-content: center;background-color: white;position: relative;}#sk-container-id-1 div.sk-item::before, #sk-container-id-1 div.sk-parallel-item::before {content: \"\";position: absolute;border-left: 1px solid gray;box-sizing: border-box;top: 0;bottom: 0;left: 50%;z-index: -1;}#sk-container-id-1 div.sk-parallel-item {display: flex;flex-direction: column;z-index: 1;position: relative;background-color: white;}#sk-container-id-1 div.sk-parallel-item:first-child::after {align-self: flex-end;width: 50%;}#sk-container-id-1 div.sk-parallel-item:last-child::after {align-self: flex-start;width: 50%;}#sk-container-id-1 div.sk-parallel-item:only-child::after {width: 0;}#sk-container-id-1 div.sk-dashed-wrapped {border: 1px dashed gray;margin: 0 0.4em 0.5em 0.4em;box-sizing: border-box;padding-bottom: 0.4em;background-color: white;}#sk-container-id-1 div.sk-label label {font-family: monospace;font-weight: bold;display: inline-block;line-height: 1.2em;}#sk-container-id-1 div.sk-label-container {text-align: center;}#sk-container-id-1 div.sk-container {/* jupyter's `normalize.less` sets `[hidden] { display: none; }` but bootstrap.min.css set `[hidden] { display: none !important; }` so we also need the `!important` here to be able to override the default hidden behavior on the sphinx rendered scikit-learn.org. See: https://github.com/scikit-learn/scikit-learn/issues/21755 */display: inline-block !important;position: relative;}#sk-container-id-1 div.sk-text-repr-fallback {display: none;}</style><div id=\"sk-container-id-1\" class=\"sk-top-container\"><div class=\"sk-text-repr-fallback\"><pre>RandomForestClassifier(min_samples_leaf=2, min_samples_split=5,\n",
       "                       n_estimators=200, n_jobs=8)</pre><b>In a Jupyter environment, please rerun this cell to show the HTML representation or trust the notebook. <br />On GitHub, the HTML representation is unable to render, please try loading this page with nbviewer.org.</b></div><div class=\"sk-container\" hidden><div class=\"sk-item\"><div class=\"sk-estimator sk-toggleable\"><input class=\"sk-toggleable__control sk-hidden--visually\" id=\"sk-estimator-id-1\" type=\"checkbox\" checked><label for=\"sk-estimator-id-1\" class=\"sk-toggleable__label sk-toggleable__label-arrow\">RandomForestClassifier</label><div class=\"sk-toggleable__content\"><pre>RandomForestClassifier(min_samples_leaf=2, min_samples_split=5,\n",
       "                       n_estimators=200, n_jobs=8)</pre></div></div></div></div></div>"
      ],
      "text/plain": [
       "RandomForestClassifier(min_samples_leaf=2, min_samples_split=5,\n",
       "                       n_estimators=200, n_jobs=8)"
      ]
     },
     "execution_count": 63,
     "metadata": {},
     "output_type": "execute_result"
    }
   ],
   "source": [
    "rfc.fit(X_resampled, y_resampled)"
   ]
  },
  {
   "cell_type": "code",
   "execution_count": 64,
   "id": "eb531703",
   "metadata": {},
   "outputs": [
    {
     "data": {
      "text/plain": [
       "array([0, 0, 1, 0, 1, 0, 0, 0, 1, 0], dtype=int64)"
      ]
     },
     "execution_count": 64,
     "metadata": {},
     "output_type": "execute_result"
    }
   ],
   "source": [
    "y_pred_rfc = rfc.predict(X_test)\n",
    "\n",
    "y_pred_rfc[:10]"
   ]
  },
  {
   "cell_type": "code",
   "execution_count": 65,
   "id": "117cea4e",
   "metadata": {},
   "outputs": [
    {
     "name": "stdout",
     "output_type": "stream",
     "text": [
      "Score:  0.6848408603713259\n",
      "Precission:  0.5196313633703921\n",
      "Accuracy:  0.6848408603713259\n",
      "Recall:  0.49283405247166223\n",
      "F1:  0.5058780805628146\n"
     ]
    }
   ],
   "source": [
    "print(\"Score: \",rfc.score(X_test, y_test))\n",
    "print(\"Precission: \",prec(y_test, y_pred_rfc))\n",
    "print(\"Accuracy: \",acc(y_test, y_pred_rfc))\n",
    "print(\"Recall: \",rec(y_test, y_pred_rfc))\n",
    "print(\"F1: \",f1(y_test, y_pred_rfc))"
   ]
  },
  {
   "cell_type": "code",
   "execution_count": 66,
   "id": "82e785b7",
   "metadata": {},
   "outputs": [],
   "source": [
    "y_prob = rfc.predict_proba(X_test)"
   ]
  },
  {
   "cell_type": "code",
   "execution_count": 67,
   "id": "39b1cbe8",
   "metadata": {},
   "outputs": [
    {
     "data": {
      "text/plain": [
       "50135     0\n",
       "307634    0\n",
       "103637    1\n",
       "508712    0\n",
       "72626     1\n",
       "662607    0\n",
       "806215    0\n",
       "593930    0\n",
       "459207    1\n",
       "227302    0\n",
       "Name: Delayed, dtype: int64"
      ]
     },
     "execution_count": 67,
     "metadata": {},
     "output_type": "execute_result"
    }
   ],
   "source": [
    "y_test.head(10)"
   ]
  },
  {
   "cell_type": "code",
   "execution_count": 68,
   "id": "3f5ef9db",
   "metadata": {},
   "outputs": [
    {
     "data": {
      "text/plain": [
       "array([[0.62227193, 0.37772807],\n",
       "       [0.63378915, 0.36621085],\n",
       "       [0.34497716, 0.65502284],\n",
       "       [0.50826953, 0.49173047],\n",
       "       [0.38870631, 0.61129369],\n",
       "       [0.80900841, 0.19099159],\n",
       "       [0.7840377 , 0.2159623 ],\n",
       "       [0.72824451, 0.27175549],\n",
       "       [0.31243454, 0.68756546],\n",
       "       [0.77600241, 0.22399759]])"
      ]
     },
     "execution_count": 68,
     "metadata": {},
     "output_type": "execute_result"
    }
   ],
   "source": [
    "y_prob[:10]"
   ]
  },
  {
   "cell_type": "code",
   "execution_count": 69,
   "id": "cea54a18",
   "metadata": {},
   "outputs": [
    {
     "name": "stdout",
     "output_type": "stream",
     "text": [
      "68360\n",
      "72077\n"
     ]
    }
   ],
   "source": [
    "print(sum(y_pred_rfc))\n",
    "print(sum(y_test))"
   ]
  },
  {
   "cell_type": "code",
   "execution_count": 83,
   "id": "b90e24c8",
   "metadata": {},
   "outputs": [],
   "source": [
    "y_pred_rfc2 = [1 if e[1]>0.35 else 0 for e in y_prob]"
   ]
  },
  {
   "cell_type": "code",
   "execution_count": 84,
   "id": "bccb5848",
   "metadata": {},
   "outputs": [
    {
     "data": {
      "text/plain": [
       "128072"
      ]
     },
     "execution_count": 84,
     "metadata": {},
     "output_type": "execute_result"
    }
   ],
   "source": [
    "sum(y_pred_rfc2)"
   ]
  },
  {
   "cell_type": "code",
   "execution_count": 85,
   "id": "bfc869c7",
   "metadata": {},
   "outputs": [
    {
     "name": "stdout",
     "output_type": "stream",
     "text": [
      "Precission:  0.42703323130738957\n",
      "Accuracy:  0.5877675035424917\n",
      "Recall:  0.7587857430248207\n",
      "F1:  0.5465028553727472\n"
     ]
    }
   ],
   "source": [
    "print(\"Precission: \",prec(y_test, y_pred_rfc2))\n",
    "print(\"Accuracy: \",acc(y_test, y_pred_rfc2))\n",
    "print(\"Recall: \",rec(y_test, y_pred_rfc2))\n",
    "print(\"F1: \",f1(y_test, y_pred_rfc2))"
   ]
  },
  {
   "cell_type": "code",
   "execution_count": 86,
   "id": "ffad2228",
   "metadata": {},
   "outputs": [
    {
     "data": {
      "text/plain": [
       "0.5816589761290557"
      ]
     },
     "execution_count": 86,
     "metadata": {},
     "output_type": "execute_result"
    }
   ],
   "source": [
    "sum(y_pred_rfc2)/len(y_pred_rfc2)"
   ]
  },
  {
   "cell_type": "code",
   "execution_count": 87,
   "id": "adcae7df",
   "metadata": {
    "scrolled": true
   },
   "outputs": [
    {
     "data": {
      "image/png": "[encoded data removed]",
      "text/plain": [
       "<Figure size 1500x800 with 2 Axes>"
      ]
     },
     "metadata": {},
     "output_type": "display_data"
    }
   ],
   "source": [
    "cm(y_test, y_pred_rfc2)\n",
    "cm(y_test, y_pred_rfc2)/cm(y_test, y_pred_rfc2).sum()*100\n",
    "plt.figure(figsize=(15, 8))\n",
    "\n",
    "ax=sns.heatmap(cm(y_test, y_pred_rfc2)/cm(y_test, y_pred_rfc2).sum() * 100, \n",
    "               annot=True)\n",
    "\n",
    "plt.title('Matriz confusion')\n",
    "plt.ylabel('Verdad')\n",
    "plt.xlabel('Prediccion')\n",
    "plt.show();"
   ]
  },
  {
   "cell_type": "code",
   "execution_count": 70,
   "id": "29c64366",
   "metadata": {},
   "outputs": [
    {
     "data": {
      "text/plain": [
       "Text(0.5, 58.7222222222222, 'Prediccion')"
      ]
     },
     "execution_count": 70,
     "metadata": {},
     "output_type": "execute_result"
    },
    {
     "data": {
      "image/png": "[encoded data removed]",
      "text/plain": [
       "<Figure size 1500x800 with 2 Axes>"
      ]
     },
     "metadata": {},
     "output_type": "display_data"
    }
   ],
   "source": [
    "cm(y_test, y_pred_rfc)\n",
    "cm(y_test, y_pred_rfc)/cm(y_test, y_pred_rfc).sum()*100\n",
    "plt.figure(figsize=(15, 8))\n",
    "\n",
    "ax=sns.heatmap(cm(y_test, y_pred_rfc)/cm(y_test, y_pred_rfc).sum() * 100, \n",
    "               annot=True)\n",
    "\n",
    "plt.title('Matriz confusion')\n",
    "plt.ylabel('Verdad')\n",
    "plt.xlabel('Prediccion')"
   ]
  },
  {
   "cell_type": "markdown",
   "id": "2f6f2db1",
   "metadata": {},
   "source": [
    "# Busqueda de Hiperparámetros"
   ]
  },
  {
   "cell_type": "code",
   "execution_count": 60,
   "id": "ed61d749",
   "metadata": {},
   "outputs": [
    {
     "ename": "KeyboardInterrupt",
     "evalue": "",
     "output_type": "error",
     "traceback": [
      "\u001b[1;31m---------------------------------------------------------------------------\u001b[0m",
      "\u001b[1;31mKeyboardInterrupt\u001b[0m                         Traceback (most recent call last)",
      "Cell \u001b[1;32mIn[60], line 16\u001b[0m\n\u001b[0;32m     13\u001b[0m grid_search \u001b[38;5;241m=\u001b[39m GridSearchCV(estimator\u001b[38;5;241m=\u001b[39mrfc, param_grid\u001b[38;5;241m=\u001b[39mparam_grid, cv\u001b[38;5;241m=\u001b[39m\u001b[38;5;241m5\u001b[39m, scoring\u001b[38;5;241m=\u001b[39m\u001b[38;5;124m'\u001b[39m\u001b[38;5;124mrecall\u001b[39m\u001b[38;5;124m'\u001b[39m, n_jobs\u001b[38;5;241m=\u001b[39m\u001b[38;5;241m2\u001b[39m)\n\u001b[0;32m     15\u001b[0m \u001b[38;5;66;03m# Ajustar el modelo a los datos\u001b[39;00m\n\u001b[1;32m---> 16\u001b[0m grid_search\u001b[38;5;241m.\u001b[39mfit(X_resampled, y_resampled)\n\u001b[0;32m     18\u001b[0m \u001b[38;5;66;03m# Imprimir los mejores hiperparámetros encontrados\u001b[39;00m\n\u001b[0;32m     19\u001b[0m \u001b[38;5;28mprint\u001b[39m(\u001b[38;5;124m\"\u001b[39m\u001b[38;5;124mMejores hiperparámetros:\u001b[39m\u001b[38;5;124m\"\u001b[39m, grid_search\u001b[38;5;241m.\u001b[39mbest_params_)\n",
      "File \u001b[1;32m~\\anaconda3\\Lib\\site-packages\\sklearn\\base.py:1152\u001b[0m, in \u001b[0;36m_fit_context.<locals>.decorator.<locals>.wrapper\u001b[1;34m(estimator, *args, **kwargs)\u001b[0m\n\u001b[0;32m   1145\u001b[0m     estimator\u001b[38;5;241m.\u001b[39m_validate_params()\n\u001b[0;32m   1147\u001b[0m \u001b[38;5;28;01mwith\u001b[39;00m config_context(\n\u001b[0;32m   1148\u001b[0m     skip_parameter_validation\u001b[38;5;241m=\u001b[39m(\n\u001b[0;32m   1149\u001b[0m         prefer_skip_nested_validation \u001b[38;5;129;01mor\u001b[39;00m global_skip_validation\n\u001b[0;32m   1150\u001b[0m     )\n\u001b[0;32m   1151\u001b[0m ):\n\u001b[1;32m-> 1152\u001b[0m     \u001b[38;5;28;01mreturn\u001b[39;00m fit_method(estimator, \u001b[38;5;241m*\u001b[39margs, \u001b[38;5;241m*\u001b[39m\u001b[38;5;241m*\u001b[39mkwargs)\n",
      "File \u001b[1;32m~\\anaconda3\\Lib\\site-packages\\sklearn\\model_selection\\_search.py:898\u001b[0m, in \u001b[0;36mBaseSearchCV.fit\u001b[1;34m(self, X, y, groups, **fit_params)\u001b[0m\n\u001b[0;32m    892\u001b[0m     results \u001b[38;5;241m=\u001b[39m \u001b[38;5;28mself\u001b[39m\u001b[38;5;241m.\u001b[39m_format_results(\n\u001b[0;32m    893\u001b[0m         all_candidate_params, n_splits, all_out, all_more_results\n\u001b[0;32m    894\u001b[0m     )\n\u001b[0;32m    896\u001b[0m     \u001b[38;5;28;01mreturn\u001b[39;00m results\n\u001b[1;32m--> 898\u001b[0m \u001b[38;5;28mself\u001b[39m\u001b[38;5;241m.\u001b[39m_run_search(evaluate_candidates)\n\u001b[0;32m    900\u001b[0m \u001b[38;5;66;03m# multimetric is determined here because in the case of a callable\u001b[39;00m\n\u001b[0;32m    901\u001b[0m \u001b[38;5;66;03m# self.scoring the return type is only known after calling\u001b[39;00m\n\u001b[0;32m    902\u001b[0m first_test_score \u001b[38;5;241m=\u001b[39m all_out[\u001b[38;5;241m0\u001b[39m][\u001b[38;5;124m\"\u001b[39m\u001b[38;5;124mtest_scores\u001b[39m\u001b[38;5;124m\"\u001b[39m]\n",
      "File \u001b[1;32m~\\anaconda3\\Lib\\site-packages\\sklearn\\model_selection\\_search.py:1422\u001b[0m, in \u001b[0;36mGridSearchCV._run_search\u001b[1;34m(self, evaluate_candidates)\u001b[0m\n\u001b[0;32m   1420\u001b[0m \u001b[38;5;28;01mdef\u001b[39;00m \u001b[38;5;21m_run_search\u001b[39m(\u001b[38;5;28mself\u001b[39m, evaluate_candidates):\n\u001b[0;32m   1421\u001b[0m \u001b[38;5;250m    \u001b[39m\u001b[38;5;124;03m\"\"\"Search all candidates in param_grid\"\"\"\u001b[39;00m\n\u001b[1;32m-> 1422\u001b[0m     evaluate_candidates(ParameterGrid(\u001b[38;5;28mself\u001b[39m\u001b[38;5;241m.\u001b[39mparam_grid))\n",
      "File \u001b[1;32m~\\anaconda3\\Lib\\site-packages\\sklearn\\model_selection\\_search.py:845\u001b[0m, in \u001b[0;36mBaseSearchCV.fit.<locals>.evaluate_candidates\u001b[1;34m(candidate_params, cv, more_results)\u001b[0m\n\u001b[0;32m    837\u001b[0m \u001b[38;5;28;01mif\u001b[39;00m \u001b[38;5;28mself\u001b[39m\u001b[38;5;241m.\u001b[39mverbose \u001b[38;5;241m>\u001b[39m \u001b[38;5;241m0\u001b[39m:\n\u001b[0;32m    838\u001b[0m     \u001b[38;5;28mprint\u001b[39m(\n\u001b[0;32m    839\u001b[0m         \u001b[38;5;124m\"\u001b[39m\u001b[38;5;124mFitting \u001b[39m\u001b[38;5;132;01m{0}\u001b[39;00m\u001b[38;5;124m folds for each of \u001b[39m\u001b[38;5;132;01m{1}\u001b[39;00m\u001b[38;5;124m candidates,\u001b[39m\u001b[38;5;124m\"\u001b[39m\n\u001b[0;32m    840\u001b[0m         \u001b[38;5;124m\"\u001b[39m\u001b[38;5;124m totalling \u001b[39m\u001b[38;5;132;01m{2}\u001b[39;00m\u001b[38;5;124m fits\u001b[39m\u001b[38;5;124m\"\u001b[39m\u001b[38;5;241m.\u001b[39mformat(\n\u001b[0;32m    841\u001b[0m             n_splits, n_candidates, n_candidates \u001b[38;5;241m*\u001b[39m n_splits\n\u001b[0;32m    842\u001b[0m         )\n\u001b[0;32m    843\u001b[0m     )\n\u001b[1;32m--> 845\u001b[0m out \u001b[38;5;241m=\u001b[39m parallel(\n\u001b[0;32m    846\u001b[0m     delayed(_fit_and_score)(\n\u001b[0;32m    847\u001b[0m         clone(base_estimator),\n\u001b[0;32m    848\u001b[0m         X,\n\u001b[0;32m    849\u001b[0m         y,\n\u001b[0;32m    850\u001b[0m         train\u001b[38;5;241m=\u001b[39mtrain,\n\u001b[0;32m    851\u001b[0m         test\u001b[38;5;241m=\u001b[39mtest,\n\u001b[0;32m    852\u001b[0m         parameters\u001b[38;5;241m=\u001b[39mparameters,\n\u001b[0;32m    853\u001b[0m         split_progress\u001b[38;5;241m=\u001b[39m(split_idx, n_splits),\n\u001b[0;32m    854\u001b[0m         candidate_progress\u001b[38;5;241m=\u001b[39m(cand_idx, n_candidates),\n\u001b[0;32m    855\u001b[0m         \u001b[38;5;241m*\u001b[39m\u001b[38;5;241m*\u001b[39mfit_and_score_kwargs,\n\u001b[0;32m    856\u001b[0m     )\n\u001b[0;32m    857\u001b[0m     \u001b[38;5;28;01mfor\u001b[39;00m (cand_idx, parameters), (split_idx, (train, test)) \u001b[38;5;129;01min\u001b[39;00m product(\n\u001b[0;32m    858\u001b[0m         \u001b[38;5;28menumerate\u001b[39m(candidate_params), \u001b[38;5;28menumerate\u001b[39m(cv\u001b[38;5;241m.\u001b[39msplit(X, y, groups))\n\u001b[0;32m    859\u001b[0m     )\n\u001b[0;32m    860\u001b[0m )\n\u001b[0;32m    862\u001b[0m \u001b[38;5;28;01mif\u001b[39;00m \u001b[38;5;28mlen\u001b[39m(out) \u001b[38;5;241m<\u001b[39m \u001b[38;5;241m1\u001b[39m:\n\u001b[0;32m    863\u001b[0m     \u001b[38;5;28;01mraise\u001b[39;00m \u001b[38;5;167;01mValueError\u001b[39;00m(\n\u001b[0;32m    864\u001b[0m         \u001b[38;5;124m\"\u001b[39m\u001b[38;5;124mNo fits were performed. \u001b[39m\u001b[38;5;124m\"\u001b[39m\n\u001b[0;32m    865\u001b[0m         \u001b[38;5;124m\"\u001b[39m\u001b[38;5;124mWas the CV iterator empty? \u001b[39m\u001b[38;5;124m\"\u001b[39m\n\u001b[0;32m    866\u001b[0m         \u001b[38;5;124m\"\u001b[39m\u001b[38;5;124mWere there no candidates?\u001b[39m\u001b[38;5;124m\"\u001b[39m\n\u001b[0;32m    867\u001b[0m     )\n",
      "File \u001b[1;32m~\\anaconda3\\Lib\\site-packages\\sklearn\\utils\\parallel.py:65\u001b[0m, in \u001b[0;36mParallel.__call__\u001b[1;34m(self, iterable)\u001b[0m\n\u001b[0;32m     60\u001b[0m config \u001b[38;5;241m=\u001b[39m get_config()\n\u001b[0;32m     61\u001b[0m iterable_with_config \u001b[38;5;241m=\u001b[39m (\n\u001b[0;32m     62\u001b[0m     (_with_config(delayed_func, config), args, kwargs)\n\u001b[0;32m     63\u001b[0m     \u001b[38;5;28;01mfor\u001b[39;00m delayed_func, args, kwargs \u001b[38;5;129;01min\u001b[39;00m iterable\n\u001b[0;32m     64\u001b[0m )\n\u001b[1;32m---> 65\u001b[0m \u001b[38;5;28;01mreturn\u001b[39;00m \u001b[38;5;28msuper\u001b[39m()\u001b[38;5;241m.\u001b[39m\u001b[38;5;21m__call__\u001b[39m(iterable_with_config)\n",
      "File \u001b[1;32m~\\anaconda3\\Lib\\site-packages\\joblib\\parallel.py:1098\u001b[0m, in \u001b[0;36mParallel.__call__\u001b[1;34m(self, iterable)\u001b[0m\n\u001b[0;32m   1095\u001b[0m     \u001b[38;5;28mself\u001b[39m\u001b[38;5;241m.\u001b[39m_iterating \u001b[38;5;241m=\u001b[39m \u001b[38;5;28;01mFalse\u001b[39;00m\n\u001b[0;32m   1097\u001b[0m \u001b[38;5;28;01mwith\u001b[39;00m \u001b[38;5;28mself\u001b[39m\u001b[38;5;241m.\u001b[39m_backend\u001b[38;5;241m.\u001b[39mretrieval_context():\n\u001b[1;32m-> 1098\u001b[0m     \u001b[38;5;28mself\u001b[39m\u001b[38;5;241m.\u001b[39mretrieve()\n\u001b[0;32m   1099\u001b[0m \u001b[38;5;66;03m# Make sure that we get a last message telling us we are done\u001b[39;00m\n\u001b[0;32m   1100\u001b[0m elapsed_time \u001b[38;5;241m=\u001b[39m time\u001b[38;5;241m.\u001b[39mtime() \u001b[38;5;241m-\u001b[39m \u001b[38;5;28mself\u001b[39m\u001b[38;5;241m.\u001b[39m_start_time\n",
      "File \u001b[1;32m~\\anaconda3\\Lib\\site-packages\\joblib\\parallel.py:975\u001b[0m, in \u001b[0;36mParallel.retrieve\u001b[1;34m(self)\u001b[0m\n\u001b[0;32m    973\u001b[0m \u001b[38;5;28;01mtry\u001b[39;00m:\n\u001b[0;32m    974\u001b[0m     \u001b[38;5;28;01mif\u001b[39;00m \u001b[38;5;28mgetattr\u001b[39m(\u001b[38;5;28mself\u001b[39m\u001b[38;5;241m.\u001b[39m_backend, \u001b[38;5;124m'\u001b[39m\u001b[38;5;124msupports_timeout\u001b[39m\u001b[38;5;124m'\u001b[39m, \u001b[38;5;28;01mFalse\u001b[39;00m):\n\u001b[1;32m--> 975\u001b[0m         \u001b[38;5;28mself\u001b[39m\u001b[38;5;241m.\u001b[39m_output\u001b[38;5;241m.\u001b[39mextend(job\u001b[38;5;241m.\u001b[39mget(timeout\u001b[38;5;241m=\u001b[39m\u001b[38;5;28mself\u001b[39m\u001b[38;5;241m.\u001b[39mtimeout))\n\u001b[0;32m    976\u001b[0m     \u001b[38;5;28;01melse\u001b[39;00m:\n\u001b[0;32m    977\u001b[0m         \u001b[38;5;28mself\u001b[39m\u001b[38;5;241m.\u001b[39m_output\u001b[38;5;241m.\u001b[39mextend(job\u001b[38;5;241m.\u001b[39mget())\n",
      "File \u001b[1;32m~\\anaconda3\\Lib\\site-packages\\joblib\\_parallel_backends.py:567\u001b[0m, in \u001b[0;36mLokyBackend.wrap_future_result\u001b[1;34m(future, timeout)\u001b[0m\n\u001b[0;32m    564\u001b[0m \u001b[38;5;250m\u001b[39m\u001b[38;5;124;03m\"\"\"Wrapper for Future.result to implement the same behaviour as\u001b[39;00m\n\u001b[0;32m    565\u001b[0m \u001b[38;5;124;03mAsyncResults.get from multiprocessing.\"\"\"\u001b[39;00m\n\u001b[0;32m    566\u001b[0m \u001b[38;5;28;01mtry\u001b[39;00m:\n\u001b[1;32m--> 567\u001b[0m     \u001b[38;5;28;01mreturn\u001b[39;00m future\u001b[38;5;241m.\u001b[39mresult(timeout\u001b[38;5;241m=\u001b[39mtimeout)\n\u001b[0;32m    568\u001b[0m \u001b[38;5;28;01mexcept\u001b[39;00m CfTimeoutError \u001b[38;5;28;01mas\u001b[39;00m e:\n\u001b[0;32m    569\u001b[0m     \u001b[38;5;28;01mraise\u001b[39;00m \u001b[38;5;167;01mTimeoutError\u001b[39;00m \u001b[38;5;28;01mfrom\u001b[39;00m \u001b[38;5;21;01me\u001b[39;00m\n",
      "File \u001b[1;32m~\\anaconda3\\Lib\\concurrent\\futures\\_base.py:451\u001b[0m, in \u001b[0;36mFuture.result\u001b[1;34m(self, timeout)\u001b[0m\n\u001b[0;32m    448\u001b[0m \u001b[38;5;28;01melif\u001b[39;00m \u001b[38;5;28mself\u001b[39m\u001b[38;5;241m.\u001b[39m_state \u001b[38;5;241m==\u001b[39m FINISHED:\n\u001b[0;32m    449\u001b[0m     \u001b[38;5;28;01mreturn\u001b[39;00m \u001b[38;5;28mself\u001b[39m\u001b[38;5;241m.\u001b[39m__get_result()\n\u001b[1;32m--> 451\u001b[0m \u001b[38;5;28mself\u001b[39m\u001b[38;5;241m.\u001b[39m_condition\u001b[38;5;241m.\u001b[39mwait(timeout)\n\u001b[0;32m    453\u001b[0m \u001b[38;5;28;01mif\u001b[39;00m \u001b[38;5;28mself\u001b[39m\u001b[38;5;241m.\u001b[39m_state \u001b[38;5;129;01min\u001b[39;00m [CANCELLED, CANCELLED_AND_NOTIFIED]:\n\u001b[0;32m    454\u001b[0m     \u001b[38;5;28;01mraise\u001b[39;00m CancelledError()\n",
      "File \u001b[1;32m~\\anaconda3\\Lib\\threading.py:320\u001b[0m, in \u001b[0;36mCondition.wait\u001b[1;34m(self, timeout)\u001b[0m\n\u001b[0;32m    318\u001b[0m \u001b[38;5;28;01mtry\u001b[39;00m:    \u001b[38;5;66;03m# restore state no matter what (e.g., KeyboardInterrupt)\u001b[39;00m\n\u001b[0;32m    319\u001b[0m     \u001b[38;5;28;01mif\u001b[39;00m timeout \u001b[38;5;129;01mis\u001b[39;00m \u001b[38;5;28;01mNone\u001b[39;00m:\n\u001b[1;32m--> 320\u001b[0m         waiter\u001b[38;5;241m.\u001b[39macquire()\n\u001b[0;32m    321\u001b[0m         gotit \u001b[38;5;241m=\u001b[39m \u001b[38;5;28;01mTrue\u001b[39;00m\n\u001b[0;32m    322\u001b[0m     \u001b[38;5;28;01melse\u001b[39;00m:\n",
      "\u001b[1;31mKeyboardInterrupt\u001b[0m: "
     ]
    }
   ],
   "source": [
    "# # Crear el clasificador RandomForestClassifier\n",
    "# rfc = RandomForestClassifier(n_jobs=4, random_state=42)\n",
    "\n",
    "# # Definir los parámetros que deseas ajustar\n",
    "# param_grid = {\n",
    "#     'n_estimators': [50, 100, 200],\n",
    "#     'max_depth': [None, 10, 20, 30],\n",
    "#     'min_samples_split': [2, 5, 10],\n",
    "#     'min_samples_leaf': [1, 2, 4]\n",
    "# }\n",
    "\n",
    "# # Crear el objeto GridSearchCV\n",
    "# grid_search = GridSearchCV(estimator=rfc, param_grid=param_grid, cv=5, scoring='recall', n_jobs=2)\n",
    "\n",
    "# # Ajustar el modelo a los datos\n",
    "# grid_search.fit(X_resampled, y_resampled)\n",
    "\n",
    "# # Imprimir los mejores hiperparámetros encontrados\n",
    "# print(\"Mejores hiperparámetros:\", grid_search.best_params_)\n",
    "\n",
    "# # Imprimir la precisión del mejor modelo en el conjunto de prueba\n",
    "# print(\"Precisión en el conjunto de prueba:\", grid_search.best_estimator_.score(X_test, y_test))"
   ]
  },
  {
   "cell_type": "code",
   "execution_count": null,
   "id": "8228fb6a",
   "metadata": {},
   "outputs": [],
   "source": []
  },
  {
   "cell_type": "code",
   "execution_count": null,
   "id": "d6aaa51f",
   "metadata": {},
   "outputs": [],
   "source": []
  },
  {
   "cell_type": "code",
   "execution_count": null,
   "id": "791cdec4",
   "metadata": {},
   "outputs": [],
   "source": []
  },
  {
   "cell_type": "code",
   "execution_count": null,
   "id": "61a54c0d",
   "metadata": {},
   "outputs": [],
   "source": []
  },
  {
   "cell_type": "code",
   "execution_count": null,
   "id": "ec9b22d0",
   "metadata": {},
   "outputs": [],
   "source": []
  },
  {
   "cell_type": "code",
   "execution_count": null,
   "id": "8f80a47f",
   "metadata": {},
   "outputs": [],
   "source": []
  },
  {
   "cell_type": "code",
   "execution_count": null,
   "id": "d9e46a2a",
   "metadata": {},
   "outputs": [],
   "source": []
  },
  {
   "cell_type": "code",
   "execution_count": null,
   "id": "41292db3",
   "metadata": {},
   "outputs": [],
   "source": []
  },
  {
   "cell_type": "code",
   "execution_count": null,
   "id": "37d2a2ab",
   "metadata": {},
   "outputs": [],
   "source": []
  },
  {
   "cell_type": "code",
   "execution_count": null,
   "id": "de5d1233",
   "metadata": {},
   "outputs": [],
   "source": []
  }
 ],
 "metadata": {
  "kernelspec": {
   "display_name": "Python 3 (ipykernel)",
   "language": "python",
   "name": "python3"
  },
  "language_info": {
   "codemirror_mode": {
    "name": "ipython",
    "version": 3
   },
   "file_extension": ".py",
   "mimetype": "text/x-python",
   "name": "python",
   "nbconvert_exporter": "python",
   "pygments_lexer": "ipython3",
   "version": "3.11.4"
  }
 },
 "nbformat": 4,
 "nbformat_minor": 5
}
