{
 "cells": [
  {
   "cell_type": "markdown",
   "id": "bda1ccf1",
   "metadata": {},
   "source": [
    "# Jupyter Notebook para el entrenamiento de modelos ML de Clasificación que determinen si un vuelo va a tener retraso o no"
   ]
  },
  {
   "cell_type": "markdown",
   "id": "ca2696c1",
   "metadata": {},
   "source": [
    "# Instalaciones"
   ]
  },
  {
   "cell_type": "code",
   "execution_count": 1,
   "id": "a6897340",
   "metadata": {},
   "outputs": [],
   "source": [
    "# %pip install imbalanced-learn\n",
    "# !pip install --upgrade imbalanced-learn scikit-learn\n",
    "# !pip install -U imbalanced-learn\n",
    "# !pip install -U scikit-learn"
   ]
  },
  {
   "cell_type": "markdown",
   "id": "60a121c1",
   "metadata": {},
   "source": [
    "# Importaciones"
   ]
  },
  {
   "cell_type": "code",
   "execution_count": 58,
   "id": "9956087f",
   "metadata": {},
   "outputs": [],
   "source": [
    "# Pre-requisites\n",
    "import pandas as pd\n",
    "import numpy as np\n",
    "import matplotlib\n",
    "import matplotlib.pyplot as plt\n",
    "%matplotlib inline\n",
    "import seaborn as sns\n",
    "# Store the classifier models to save time\n",
    "import joblib\n",
    "\n",
    "# Preprocessing\n",
    "from sklearn.preprocessing import StandardScaler \n",
    "from sklearn.model_selection import train_test_split as tts\n",
    "from imblearn.over_sampling import SMOTE\n",
    "\n",
    "# Classifiers from scikit-learn\n",
    "from sklearn.linear_model import LogisticRegression\n",
    "from sklearn.tree import DecisionTreeClassifier\n",
    "from sklearn.ensemble import GradientBoostingClassifier\n",
    "from sklearn.ensemble import RandomForestClassifier\n",
    "from sklearn.ensemble import ExtraTreesClassifier\n",
    "import xgboost as xgb\n",
    "\n",
    "# Performance metrics\n",
    "from sklearn.metrics import accuracy_score as acc\n",
    "from sklearn.metrics import precision_score as prec\n",
    "from sklearn.metrics import recall_score as rec\n",
    "from sklearn.metrics import f1_score as f1\n",
    "from sklearn.metrics import confusion_matrix as cm\n",
    "\n",
    "\n",
    "from sklearn.model_selection import GridSearchCV\n",
    "from joblib import parallel_backend"
   ]
  },
  {
   "cell_type": "code",
   "execution_count": 3,
   "id": "0f04a4eb",
   "metadata": {},
   "outputs": [],
   "source": [
    "fl = pd.read_csv(\"../data/ML/clean_data_for_ML.csv\")"
   ]
  },
  {
   "cell_type": "markdown",
   "id": "886a7e4e",
   "metadata": {},
   "source": [
    "# Preparación de variables para el modelo"
   ]
  },
  {
   "cell_type": "code",
   "execution_count": 4,
   "id": "94000900",
   "metadata": {},
   "outputs": [],
   "source": [
    "fl = fl[fl.duration.notna()]"
   ]
  },
  {
   "cell_type": "code",
   "execution_count": 5,
   "id": "2943473a",
   "metadata": {},
   "outputs": [
    {
     "data": {
      "text/plain": [
       "Index(['arr_mins_of_delay', 'week_day', 'week_num', 'day_time',\n",
       "       'cod_flight_IATA', 'cod_airliner_IATA', 'cod_airport_IATA', 'duration',\n",
       "       'Temperature', 'Wind', 'acc_Gusts', 'Relative_hum', 'Pressure',\n",
       "       'Condition', 'acc_bad_weather'],\n",
       "      dtype='object')"
      ]
     },
     "execution_count": 5,
     "metadata": {},
     "output_type": "execute_result"
    }
   ],
   "source": [
    "fl.columns"
   ]
  },
  {
   "cell_type": "markdown",
   "id": "47bc22f0",
   "metadata": {},
   "source": [
    "## Elimino columnas de baja correlación o con demasiados valores que pueden provocar overfitting en los modelos"
   ]
  },
  {
   "cell_type": "code",
   "execution_count": 6,
   "id": "a194226a",
   "metadata": {},
   "outputs": [],
   "source": [
    "fl = fl.drop(columns = ['cod_flight_IATA','Relative_hum','Pressure','cod_airport_IATA'])"
   ]
  },
  {
   "cell_type": "markdown",
   "id": "2c8efe43",
   "metadata": {},
   "source": [
    "## Genero la variable target \"Delayed\""
   ]
  },
  {
   "cell_type": "code",
   "execution_count": 7,
   "id": "3002e823",
   "metadata": {},
   "outputs": [],
   "source": [
    "fl['Delayed'] = fl['arr_mins_of_delay'].apply(lambda x: 1 if x > 0 else 0)"
   ]
  },
  {
   "cell_type": "code",
   "execution_count": 8,
   "id": "4c34afc7",
   "metadata": {},
   "outputs": [
    {
     "data": {
      "text/plain": [
       "0    0.672649\n",
       "1    0.327351\n",
       "Name: Delayed, dtype: float64"
      ]
     },
     "execution_count": 8,
     "metadata": {},
     "output_type": "execute_result"
    },
    {
     "data": {
      "image/png": "[encoded data removed]",
      "text/plain": [
       "<Figure size 1000x600 with 1 Axes>"
      ]
     },
     "metadata": {},
     "output_type": "display_data"
    }
   ],
   "source": [
    "(fl.Delayed.value_counts()/len(fl)).plot.bar(color=['b', 'r'],    # plot customer churn rate\n",
    "                                           figsize=(10, 6),\n",
    "                                           title='Delayed Rate',\n",
    "                                           rot=0,\n",
    "                                           fontsize=12);\n",
    "\n",
    "\n",
    "fl.Delayed.value_counts()/len(fl)"
   ]
  },
  {
   "cell_type": "markdown",
   "id": "770a7947",
   "metadata": {},
   "source": [
    "## Correlaciones"
   ]
  },
  {
   "cell_type": "code",
   "execution_count": 9,
   "id": "e667a79e",
   "metadata": {},
   "outputs": [
    {
     "name": "stderr",
     "output_type": "stream",
     "text": [
      "C:\\Users\\daarr\\AppData\\Local\\Temp\\ipykernel_18732\\3013328059.py:1: FutureWarning: The default value of numeric_only in DataFrame.corr is deprecated. In a future version, it will default to False. Select only valid columns or specify the value of numeric_only to silence this warning.\n",
      "  corr=fl.corr()   # correlation matrix\n"
     ]
    },
    {
     "data": {
      "text/html": [
       "<div>\n",
       "<style scoped>\n",
       "    .dataframe tbody tr th:only-of-type {\n",
       "        vertical-align: middle;\n",
       "    }\n",
       "\n",
       "    .dataframe tbody tr th {\n",
       "        vertical-align: top;\n",
       "    }\n",
       "\n",
       "    .dataframe thead th {\n",
       "        text-align: right;\n",
       "    }\n",
       "</style>\n",
       "<table border=\"1\" class=\"dataframe\">\n",
       "  <thead>\n",
       "    <tr style=\"text-align: right;\">\n",
       "      <th></th>\n",
       "      <th>arr_mins_of_delay</th>\n",
       "      <th>week_num</th>\n",
       "      <th>duration</th>\n",
       "      <th>Temperature</th>\n",
       "      <th>Wind</th>\n",
       "      <th>acc_Gusts</th>\n",
       "      <th>acc_bad_weather</th>\n",
       "      <th>Delayed</th>\n",
       "    </tr>\n",
       "  </thead>\n",
       "  <tbody>\n",
       "    <tr>\n",
       "      <th>arr_mins_of_delay</th>\n",
       "      <td>1.000000</td>\n",
       "      <td>0.010288</td>\n",
       "      <td>-0.025159</td>\n",
       "      <td>0.051942</td>\n",
       "      <td>0.077659</td>\n",
       "      <td>0.082185</td>\n",
       "      <td>0.075111</td>\n",
       "      <td>0.621259</td>\n",
       "    </tr>\n",
       "    <tr>\n",
       "      <th>week_num</th>\n",
       "      <td>0.010288</td>\n",
       "      <td>1.000000</td>\n",
       "      <td>0.007501</td>\n",
       "      <td>0.178952</td>\n",
       "      <td>-0.036482</td>\n",
       "      <td>-0.010524</td>\n",
       "      <td>0.023384</td>\n",
       "      <td>0.016726</td>\n",
       "    </tr>\n",
       "    <tr>\n",
       "      <th>duration</th>\n",
       "      <td>-0.025159</td>\n",
       "      <td>0.007501</td>\n",
       "      <td>1.000000</td>\n",
       "      <td>0.032352</td>\n",
       "      <td>0.000747</td>\n",
       "      <td>-0.010846</td>\n",
       "      <td>-0.001045</td>\n",
       "      <td>0.040115</td>\n",
       "    </tr>\n",
       "    <tr>\n",
       "      <th>Temperature</th>\n",
       "      <td>0.051942</td>\n",
       "      <td>0.178952</td>\n",
       "      <td>0.032352</td>\n",
       "      <td>1.000000</td>\n",
       "      <td>0.148810</td>\n",
       "      <td>0.139241</td>\n",
       "      <td>-0.127939</td>\n",
       "      <td>0.065140</td>\n",
       "    </tr>\n",
       "    <tr>\n",
       "      <th>Wind</th>\n",
       "      <td>0.077659</td>\n",
       "      <td>-0.036482</td>\n",
       "      <td>0.000747</td>\n",
       "      <td>0.148810</td>\n",
       "      <td>1.000000</td>\n",
       "      <td>0.574136</td>\n",
       "      <td>0.043563</td>\n",
       "      <td>0.089730</td>\n",
       "    </tr>\n",
       "    <tr>\n",
       "      <th>acc_Gusts</th>\n",
       "      <td>0.082185</td>\n",
       "      <td>-0.010524</td>\n",
       "      <td>-0.010846</td>\n",
       "      <td>0.139241</td>\n",
       "      <td>0.574136</td>\n",
       "      <td>1.000000</td>\n",
       "      <td>0.023857</td>\n",
       "      <td>0.090510</td>\n",
       "    </tr>\n",
       "    <tr>\n",
       "      <th>acc_bad_weather</th>\n",
       "      <td>0.075111</td>\n",
       "      <td>0.023384</td>\n",
       "      <td>-0.001045</td>\n",
       "      <td>-0.127939</td>\n",
       "      <td>0.043563</td>\n",
       "      <td>0.023857</td>\n",
       "      <td>1.000000</td>\n",
       "      <td>0.063781</td>\n",
       "    </tr>\n",
       "    <tr>\n",
       "      <th>Delayed</th>\n",
       "      <td>0.621259</td>\n",
       "      <td>0.016726</td>\n",
       "      <td>0.040115</td>\n",
       "      <td>0.065140</td>\n",
       "      <td>0.089730</td>\n",
       "      <td>0.090510</td>\n",
       "      <td>0.063781</td>\n",
       "      <td>1.000000</td>\n",
       "    </tr>\n",
       "  </tbody>\n",
       "</table>\n",
       "</div>"
      ],
      "text/plain": [
       "                   arr_mins_of_delay  week_num  duration  Temperature  \\\n",
       "arr_mins_of_delay           1.000000  0.010288 -0.025159     0.051942   \n",
       "week_num                    0.010288  1.000000  0.007501     0.178952   \n",
       "duration                   -0.025159  0.007501  1.000000     0.032352   \n",
       "Temperature                 0.051942  0.178952  0.032352     1.000000   \n",
       "Wind                        0.077659 -0.036482  0.000747     0.148810   \n",
       "acc_Gusts                   0.082185 -0.010524 -0.010846     0.139241   \n",
       "acc_bad_weather             0.075111  0.023384 -0.001045    -0.127939   \n",
       "Delayed                     0.621259  0.016726  0.040115     0.065140   \n",
       "\n",
       "                       Wind  acc_Gusts  acc_bad_weather   Delayed  \n",
       "arr_mins_of_delay  0.077659   0.082185         0.075111  0.621259  \n",
       "week_num          -0.036482  -0.010524         0.023384  0.016726  \n",
       "duration           0.000747  -0.010846        -0.001045  0.040115  \n",
       "Temperature        0.148810   0.139241        -0.127939  0.065140  \n",
       "Wind               1.000000   0.574136         0.043563  0.089730  \n",
       "acc_Gusts          0.574136   1.000000         0.023857  0.090510  \n",
       "acc_bad_weather    0.043563   0.023857         1.000000  0.063781  \n",
       "Delayed            0.089730   0.090510         0.063781  1.000000  "
      ]
     },
     "execution_count": 9,
     "metadata": {},
     "output_type": "execute_result"
    }
   ],
   "source": [
    "corr=fl.corr()   # correlation matrix\n",
    "\n",
    "corr"
   ]
  },
  {
   "cell_type": "markdown",
   "id": "3bffe347",
   "metadata": {},
   "source": [
    "## Cambio la columna week_num a categórica"
   ]
  },
  {
   "cell_type": "code",
   "execution_count": 10,
   "id": "47ed544e",
   "metadata": {},
   "outputs": [],
   "source": [
    "fl['week_num'] = fl['week_num'].astype('object')"
   ]
  },
  {
   "cell_type": "code",
   "execution_count": 11,
   "id": "d139ccd1",
   "metadata": {},
   "outputs": [
    {
     "data": {
      "image/png": "[encoded data removed]",
      "text/plain": [
       "<Figure size 1000x1000 with 2 Axes>"
      ]
     },
     "metadata": {},
     "output_type": "display_data"
    }
   ],
   "source": [
    "fig, ax=plt.subplots(figsize=(10,10))\n",
    "\n",
    "\n",
    "mask=np.triu(np.ones_like(corr, dtype=bool))           # mask for superior triangular matrix\n",
    "\n",
    "\n",
    "color_map=sns.diverging_palette(0, 10, as_cmap=True)   # color palette\n",
    "\n",
    "\n",
    "# correlation heatmap\n",
    "sns.heatmap(corr,                       # data\n",
    "            mask=mask,                  # white mask\n",
    "            cmap=color_map,             # color\n",
    "            vmax=1,                     # vertical edge\n",
    "            center=0,                   # plot center\n",
    "            square=True,                # data square representation\n",
    "            annot=True,\n",
    "            linewidth=.5,               # linewidth\n",
    "            cbar_kws={'shrink': .5},    # lateral bar legend\n",
    "            ax=ax                       # axes for plot size\n",
    "           );"
   ]
  },
  {
   "cell_type": "code",
   "execution_count": 12,
   "id": "b4987c7c",
   "metadata": {},
   "outputs": [],
   "source": [
    "fl = fl.drop(columns = ['arr_mins_of_delay'])"
   ]
  },
  {
   "cell_type": "markdown",
   "id": "e48ac3ec",
   "metadata": {},
   "source": [
    "## One Hot Encoding"
   ]
  },
  {
   "cell_type": "code",
   "execution_count": 13,
   "id": "b33b2da8",
   "metadata": {},
   "outputs": [
    {
     "name": "stderr",
     "output_type": "stream",
     "text": [
      "C:\\Users\\daarr\\AppData\\Local\\Temp\\ipykernel_18732\\2196711668.py:1: FutureWarning: In a future version, the Index constructor will not infer numeric dtypes when passed object-dtype sequences (matching Series behavior)\n",
      "  fl=pd.get_dummies(fl, columns = ['week_num','Condition','week_day','day_time','cod_airliner_IATA'], drop_first=True)\n"
     ]
    }
   ],
   "source": [
    "fl=pd.get_dummies(fl, columns = ['week_num','Condition','week_day','day_time','cod_airliner_IATA'], drop_first=True)\n"
   ]
  },
  {
   "cell_type": "code",
   "execution_count": 14,
   "id": "faf960e2",
   "metadata": {},
   "outputs": [
    {
     "data": {
      "text/plain": [
       "0    592426\n",
       "1    288310\n",
       "Name: Delayed, dtype: int64"
      ]
     },
     "execution_count": 14,
     "metadata": {},
     "output_type": "execute_result"
    }
   ],
   "source": [
    "fl.Delayed.value_counts()"
   ]
  },
  {
   "cell_type": "code",
   "execution_count": 15,
   "id": "2ee5aaaa",
   "metadata": {},
   "outputs": [
    {
     "data": {
      "text/plain": [
       "(880736, 184)"
      ]
     },
     "execution_count": 15,
     "metadata": {},
     "output_type": "execute_result"
    }
   ],
   "source": [
    "fl.shape"
   ]
  },
  {
   "cell_type": "markdown",
   "id": "f254f23c",
   "metadata": {},
   "source": [
    "# División del DataFrame para el entrenamiento"
   ]
  },
  {
   "cell_type": "code",
   "execution_count": 16,
   "id": "797d868d",
   "metadata": {},
   "outputs": [],
   "source": [
    "X = fl.drop('Delayed', axis=1)\n",
    "y = fl.Delayed"
   ]
  },
  {
   "cell_type": "code",
   "execution_count": 17,
   "id": "223a0937",
   "metadata": {},
   "outputs": [
    {
     "data": {
      "text/plain": [
       "((880736, 183), (880736,))"
      ]
     },
     "execution_count": 17,
     "metadata": {},
     "output_type": "execute_result"
    }
   ],
   "source": [
    "X.shape, y.shape"
   ]
  },
  {
   "cell_type": "code",
   "execution_count": 18,
   "id": "f1cc2550",
   "metadata": {},
   "outputs": [
    {
     "name": "stdout",
     "output_type": "stream",
     "text": [
      "<class 'pandas.core.frame.DataFrame'>\n",
      "Int64Index: 880736 entries, 0 to 880761\n",
      "Columns: 183 entries, duration to cod_airliner_IATA_YW\n",
      "dtypes: float64(3), int64(2), uint8(178)\n",
      "memory usage: 189.8 MB\n"
     ]
    }
   ],
   "source": [
    "X.info()"
   ]
  },
  {
   "cell_type": "code",
   "execution_count": 19,
   "id": "7e95c42d",
   "metadata": {},
   "outputs": [],
   "source": [
    "# stratify mantiene la distribucion del objetivo\n",
    "X_train, X_test, y_train, y_test = tts(X, y, \n",
    "                                       random_state=42,\n",
    "                                       stratify=y)"
   ]
  },
  {
   "cell_type": "markdown",
   "id": "29f24d4d",
   "metadata": {},
   "source": [
    "# Normalización de las variables numéricas"
   ]
  },
  {
   "cell_type": "code",
   "execution_count": 20,
   "id": "3825f6d3",
   "metadata": {},
   "outputs": [],
   "source": [
    "escalador = StandardScaler()    # inicia el normalizador\n",
    " \n",
    "X_train[['duration','Temperature', 'Wind', 'acc_Gusts','acc_bad_weather']] = escalador.fit_transform(X_train[['duration','Temperature', 'Wind', 'acc_Gusts','acc_bad_weather']])   # transforma train\n",
    "X_test[['duration','Temperature', 'Wind', 'acc_Gusts','acc_bad_weather']] = escalador.transform(X_test[['duration','Temperature', 'Wind', 'acc_Gusts','acc_bad_weather']])  # transforma test"
   ]
  },
  {
   "cell_type": "markdown",
   "id": "4c5a9b2b",
   "metadata": {},
   "source": [
    "# Aplico SMOTE (Synthetic Minority over-sampling Technique) para equilibrar la diferencia entre clases"
   ]
  },
  {
   "cell_type": "code",
   "execution_count": 21,
   "id": "f92194fb",
   "metadata": {},
   "outputs": [],
   "source": [
    "# Aplicar SMOTE al conjunto de entrenamiento\n",
    "smote = SMOTE(sampling_strategy='auto', random_state=42)\n",
    "X_resampled, y_resampled = smote.fit_resample(X_train, y_train)"
   ]
  },
  {
   "cell_type": "code",
   "execution_count": 22,
   "id": "3e5bc915",
   "metadata": {},
   "outputs": [
    {
     "data": {
      "text/plain": [
       "(660552, 183)"
      ]
     },
     "execution_count": 22,
     "metadata": {},
     "output_type": "execute_result"
    }
   ],
   "source": [
    "X_train.shape"
   ]
  },
  {
   "cell_type": "code",
   "execution_count": 23,
   "id": "c40a958d",
   "metadata": {},
   "outputs": [
    {
     "data": {
      "text/plain": [
       "(888638, 183)"
      ]
     },
     "execution_count": 23,
     "metadata": {},
     "output_type": "execute_result"
    }
   ],
   "source": [
    "X_resampled.shape"
   ]
  },
  {
   "cell_type": "markdown",
   "id": "5cb5948d",
   "metadata": {},
   "source": [
    "# Ensayo de diferentes modelos de regresión"
   ]
  },
  {
   "cell_type": "markdown",
   "id": "ceafeb68",
   "metadata": {},
   "source": [
    "# Logistic Regression"
   ]
  },
  {
   "cell_type": "code",
   "execution_count": 24,
   "id": "99bcd10f",
   "metadata": {},
   "outputs": [],
   "source": [
    "# logreg = LogisticRegression(n_jobs=8)\n"
   ]
  },
  {
   "cell_type": "code",
   "execution_count": 25,
   "id": "d7a734bc",
   "metadata": {},
   "outputs": [],
   "source": [
    "# logreg.fit(X_train, y_train)"
   ]
  },
  {
   "cell_type": "code",
   "execution_count": 26,
   "id": "602148d9",
   "metadata": {},
   "outputs": [],
   "source": [
    "# y_pred_logreg = logreg.predict(X_test)\n",
    "\n",
    "# y_pred_logreg[:10]"
   ]
  },
  {
   "cell_type": "code",
   "execution_count": 27,
   "id": "5c63fecb",
   "metadata": {},
   "outputs": [],
   "source": [
    "# y_test.head(10)\n"
   ]
  },
  {
   "cell_type": "code",
   "execution_count": 28,
   "id": "d4a60eb4",
   "metadata": {},
   "outputs": [],
   "source": [
    "# print(\"Score: \",logreg.score(X_test, y_test))\n",
    "# print(\"Precission: \",prec(y_test, y_pred_logreg))\n",
    "# print(\"Accuracy: \",acc(y_test, y_pred_logreg))\n",
    "# print(\"Recall: \",rec(y_test, y_pred_logreg))\n",
    "# print(\"F1: \",f1(y_test, y_pred_logreg))"
   ]
  },
  {
   "cell_type": "code",
   "execution_count": 29,
   "id": "4ce7f93c",
   "metadata": {},
   "outputs": [],
   "source": [
    "# y_test.value_counts() / y_test.shape[0] * 100"
   ]
  },
  {
   "cell_type": "code",
   "execution_count": 30,
   "id": "77ccd56d",
   "metadata": {},
   "outputs": [],
   "source": [
    "# y_prob = logreg.predict_proba(X_test)\n",
    "# y_prob[:10]"
   ]
  },
  {
   "cell_type": "code",
   "execution_count": 31,
   "id": "69d5cffa",
   "metadata": {},
   "outputs": [],
   "source": [
    "# y_pred_logreg2 = [1 if e[1]>0.3 else 0 for e in y_prob]\n",
    "\n",
    "# sum(y_pred_logreg2==y_test) / len(y_pred_logreg2) * 100   # acierto, accuracy"
   ]
  },
  {
   "cell_type": "code",
   "execution_count": 32,
   "id": "23f4cb19",
   "metadata": {},
   "outputs": [],
   "source": [
    "# sum(y_pred_logreg2)"
   ]
  },
  {
   "cell_type": "code",
   "execution_count": 33,
   "id": "026aaff7",
   "metadata": {},
   "outputs": [],
   "source": [
    "# cm(y_test, y_pred_logreg2)\n",
    "# cm(y_test, y_pred_logreg2)/cm(y_test, y_pred_logreg2).sum()*100\n",
    "# plt.figure(figsize=(15, 8))\n",
    "\n",
    "# ax=sns.heatmap(cm(y_test, y_pred_logreg2)/cm(y_test, y_pred_logreg2).sum() * 100, \n",
    "#                annot=True)\n",
    "\n",
    "# plt.title('Matriz confusion')\n",
    "# plt.ylabel('Verdad')\n",
    "# plt.xlabel('Prediccion')\n",
    "# plt.show();"
   ]
  },
  {
   "cell_type": "markdown",
   "id": "3e753aa2",
   "metadata": {},
   "source": [
    "# XGBOOST"
   ]
  },
  {
   "cell_type": "code",
   "execution_count": 34,
   "id": "3177256e",
   "metadata": {},
   "outputs": [],
   "source": [
    "# xgbc = xgb.XGBClassifier(n_jobs = 8)"
   ]
  },
  {
   "cell_type": "code",
   "execution_count": 35,
   "id": "0e4bc456",
   "metadata": {},
   "outputs": [],
   "source": [
    "# xgbc.fit(X_train, y_train)"
   ]
  },
  {
   "cell_type": "code",
   "execution_count": 36,
   "id": "f5bfcc17",
   "metadata": {},
   "outputs": [],
   "source": [
    "# y_pred_xgb = xgbc.predict(X_test)\n",
    "\n",
    "# y_pred_xgb[:10]"
   ]
  },
  {
   "cell_type": "code",
   "execution_count": 37,
   "id": "f7faf112",
   "metadata": {},
   "outputs": [],
   "source": [
    "# print(\"Score: \",xgbc.score(X_test, y_test))\n",
    "# print(\"Precission: \",prec(y_test, y_pred_xgb))\n",
    "# print(\"Accuracy: \",acc(y_test, y_pred_xgb))\n",
    "# print(\"Recall: \",rec(y_test, y_pred_xgb))\n",
    "# print(\"F1: \",f1(y_test, y_pred_xgb))"
   ]
  },
  {
   "cell_type": "code",
   "execution_count": 38,
   "id": "c7d6be91",
   "metadata": {},
   "outputs": [],
   "source": [
    "# y_prob = xgbc.predict_proba(X_test)"
   ]
  },
  {
   "cell_type": "code",
   "execution_count": 39,
   "id": "6943a588",
   "metadata": {},
   "outputs": [],
   "source": [
    "# y_prob[:10]"
   ]
  },
  {
   "cell_type": "code",
   "execution_count": 40,
   "id": "0b49d465",
   "metadata": {},
   "outputs": [],
   "source": [
    "# y_test.head(10)"
   ]
  },
  {
   "cell_type": "code",
   "execution_count": 41,
   "id": "fda2a516",
   "metadata": {},
   "outputs": [],
   "source": [
    "# y_pred_xgb.sum()"
   ]
  },
  {
   "cell_type": "code",
   "execution_count": 42,
   "id": "4b7affd2",
   "metadata": {},
   "outputs": [],
   "source": [
    "# cm(y_test, y_pred_xgb)\n",
    "# cm(y_test, y_pred_xgb)/cm(y_test, y_pred_xgb).sum()*100\n",
    "# plt.figure(figsize=(15, 8))\n",
    "\n",
    "# ax=sns.heatmap(cm(y_test, y_pred_xgb)/cm(y_test, y_pred_xgb).sum() * 100, \n",
    "#                annot=True)\n",
    "\n",
    "# plt.title('Matriz confusion')\n",
    "# plt.ylabel('Verdad')\n",
    "# plt.xlabel('Prediccion')"
   ]
  },
  {
   "cell_type": "markdown",
   "id": "5f00ef71",
   "metadata": {},
   "source": [
    "# RandomForestClassifier"
   ]
  },
  {
   "cell_type": "code",
   "execution_count": 62,
   "id": "1da7f0eb",
   "metadata": {},
   "outputs": [],
   "source": [
    "rfc = RandomForestClassifier(n_estimators=200,\n",
    "                             min_samples_split=5,\n",
    "                             min_samples_leaf=2,\n",
    "                             n_jobs=8)\n"
   ]
  },
  {
   "cell_type": "code",
   "execution_count": 63,
   "id": "9c1dd920",
   "metadata": {},
   "outputs": [
    {
     "data": {
      "text/html": [
       "<style>#sk-container-id-1 {color: black;}#sk-container-id-1 pre{padding: 0;}#sk-container-id-1 div.sk-toggleable {background-color: white;}#sk-container-id-1 label.sk-toggleable__label {cursor: pointer;display: block;width: 100%;margin-bottom: 0;padding: 0.3em;box-sizing: border-box;text-align: center;}#sk-container-id-1 label.sk-toggleable__label-arrow:before {content: \"▸\";float: left;margin-right: 0.25em;color: #696969;}#sk-container-id-1 label.sk-toggleable__label-arrow:hover:before {color: black;}#sk-container-id-1 div.sk-estimator:hover label.sk-toggleable__label-arrow:before {color: black;}#sk-container-id-1 div.sk-toggleable__content {max-height: 0;max-width: 0;overflow: hidden;text-align: left;background-color: #f0f8ff;}#sk-container-id-1 div.sk-toggleable__content pre {margin: 0.2em;color: black;border-radius: 0.25em;background-color: #f0f8ff;}#sk-container-id-1 input.sk-toggleable__control:checked~div.sk-toggleable__content {max-height: 200px;max-width: 100%;overflow: auto;}#sk-container-id-1 input.sk-toggleable__control:checked~label.sk-toggleable__label-arrow:before {content: \"▾\";}#sk-container-id-1 div.sk-estimator input.sk-toggleable__control:checked~label.sk-toggleable__label {background-color: #d4ebff;}#sk-container-id-1 div.sk-label input.sk-toggleable__control:checked~label.sk-toggleable__label {background-color: #d4ebff;}#sk-container-id-1 input.sk-hidden--visually {border: 0;clip: rect(1px 1px 1px 1px);clip: rect(1px, 1px, 1px, 1px);height: 1px;margin: -1px;overflow: hidden;padding: 0;position: absolute;width: 1px;}#sk-container-id-1 div.sk-estimator {font-family: monospace;background-color: #f0f8ff;border: 1px dotted black;border-radius: 0.25em;box-sizing: border-box;margin-bottom: 0.5em;}#sk-container-id-1 div.sk-estimator:hover {background-color: #d4ebff;}#sk-container-id-1 div.sk-parallel-item::after {content: \"\";width: 100%;border-bottom: 1px solid gray;flex-grow: 1;}#sk-container-id-1 div.sk-label:hover label.sk-toggleable__label {background-color: #d4ebff;}#sk-container-id-1 div.sk-serial::before {content: \"\";position: absolute;border-left: 1px solid gray;box-sizing: border-box;top: 0;bottom: 0;left: 50%;z-index: 0;}#sk-container-id-1 div.sk-serial {display: flex;flex-direction: column;align-items: center;background-color: white;padding-right: 0.2em;padding-left: 0.2em;position: relative;}#sk-container-id-1 div.sk-item {position: relative;z-index: 1;}#sk-container-id-1 div.sk-parallel {display: flex;align-items: stretch;justify-content: center;background-color: white;position: relative;}#sk-container-id-1 div.sk-item::before, #sk-container-id-1 div.sk-parallel-item::before {content: \"\";position: absolute;border-left: 1px solid gray;box-sizing: border-box;top: 0;bottom: 0;left: 50%;z-index: -1;}#sk-container-id-1 div.sk-parallel-item {display: flex;flex-direction: column;z-index: 1;position: relative;background-color: white;}#sk-container-id-1 div.sk-parallel-item:first-child::after {align-self: flex-end;width: 50%;}#sk-container-id-1 div.sk-parallel-item:last-child::after {align-self: flex-start;width: 50%;}#sk-container-id-1 div.sk-parallel-item:only-child::after {width: 0;}#sk-container-id-1 div.sk-dashed-wrapped {border: 1px dashed gray;margin: 0 0.4em 0.5em 0.4em;box-sizing: border-box;padding-bottom: 0.4em;background-color: white;}#sk-container-id-1 div.sk-label label {font-family: monospace;font-weight: bold;display: inline-block;line-height: 1.2em;}#sk-container-id-1 div.sk-label-container {text-align: center;}#sk-container-id-1 div.sk-container {/* jupyter's `normalize.less` sets `[hidden] { display: none; }` but bootstrap.min.css set `[hidden] { display: none !important; }` so we also need the `!important` here to be able to override the default hidden behavior on the sphinx rendered scikit-learn.org. See: https://github.com/scikit-learn/scikit-learn/issues/21755 */display: inline-block !important;position: relative;}#sk-container-id-1 div.sk-text-repr-fallback {display: none;}</style><div id=\"sk-container-id-1\" class=\"sk-top-container\"><div class=\"sk-text-repr-fallback\"><pre>RandomForestClassifier(min_samples_leaf=2, min_samples_split=5,\n",
       "                       n_estimators=200, n_jobs=8)</pre><b>In a Jupyter environment, please rerun this cell to show the HTML representation or trust the notebook. <br />On GitHub, the HTML representation is unable to render, please try loading this page with nbviewer.org.</b></div><div class=\"sk-container\" hidden><div class=\"sk-item\"><div class=\"sk-estimator sk-toggleable\"><input class=\"sk-toggleable__control sk-hidden--visually\" id=\"sk-estimator-id-1\" type=\"checkbox\" checked><label for=\"sk-estimator-id-1\" class=\"sk-toggleable__label sk-toggleable__label-arrow\">RandomForestClassifier</label><div class=\"sk-toggleable__content\"><pre>RandomForestClassifier(min_samples_leaf=2, min_samples_split=5,\n",
       "                       n_estimators=200, n_jobs=8)</pre></div></div></div></div></div>"
      ],
      "text/plain": [
       "RandomForestClassifier(min_samples_leaf=2, min_samples_split=5,\n",
       "                       n_estimators=200, n_jobs=8)"
      ]
     },
     "execution_count": 63,
     "metadata": {},
     "output_type": "execute_result"
    }
   ],
   "source": [
    "rfc.fit(X_train, y_train)"
   ]
  },
  {
   "cell_type": "code",
   "execution_count": 64,
   "id": "eb531703",
   "metadata": {},
   "outputs": [
    {
     "data": {
      "text/plain": [
       "array([0, 0, 1, 0, 1, 0, 0, 0, 1, 0], dtype=int64)"
      ]
     },
     "execution_count": 64,
     "metadata": {},
     "output_type": "execute_result"
    }
   ],
   "source": [
    "y_pred_rfc = rfc.predict(X_test)\n",
    "\n",
    "y_pred_rfc[:10]"
   ]
  },
  {
   "cell_type": "code",
   "execution_count": 65,
   "id": "117cea4e",
   "metadata": {},
   "outputs": [
    {
     "name": "stdout",
     "output_type": "stream",
     "text": [
      "Score:  0.6848408603713259\n",
      "Precission:  0.5196313633703921\n",
      "Accuracy:  0.6848408603713259\n",
      "Recall:  0.49283405247166223\n",
      "F1:  0.5058780805628146\n"
     ]
    }
   ],
   "source": [
    "print(\"Score: \",rfc.score(X_test, y_test))\n",
    "print(\"Precission: \",prec(y_test, y_pred_rfc))\n",
    "print(\"Accuracy: \",acc(y_test, y_pred_rfc))\n",
    "print(\"Recall: \",rec(y_test, y_pred_rfc))\n",
    "print(\"F1: \",f1(y_test, y_pred_rfc))"
   ]
  },
  {
   "cell_type": "code",
   "execution_count": 66,
   "id": "82e785b7",
   "metadata": {},
   "outputs": [],
   "source": [
    "y_prob = rfc.predict_proba(X_test)"
   ]
  },
  {
   "cell_type": "code",
   "execution_count": 67,
   "id": "39b1cbe8",
   "metadata": {},
   "outputs": [
    {
     "data": {
      "text/plain": [
       "50135     0\n",
       "307634    0\n",
       "103637    1\n",
       "508712    0\n",
       "72626     1\n",
       "662607    0\n",
       "806215    0\n",
       "593930    0\n",
       "459207    1\n",
       "227302    0\n",
       "Name: Delayed, dtype: int64"
      ]
     },
     "execution_count": 67,
     "metadata": {},
     "output_type": "execute_result"
    }
   ],
   "source": [
    "y_test.head(10)"
   ]
  },
  {
   "cell_type": "code",
   "execution_count": 68,
   "id": "3f5ef9db",
   "metadata": {},
   "outputs": [
    {
     "data": {
      "text/plain": [
       "array([[0.62227193, 0.37772807],\n",
       "       [0.63378915, 0.36621085],\n",
       "       [0.34497716, 0.65502284],\n",
       "       [0.50826953, 0.49173047],\n",
       "       [0.38870631, 0.61129369],\n",
       "       [0.80900841, 0.19099159],\n",
       "       [0.7840377 , 0.2159623 ],\n",
       "       [0.72824451, 0.27175549],\n",
       "       [0.31243454, 0.68756546],\n",
       "       [0.77600241, 0.22399759]])"
      ]
     },
     "execution_count": 68,
     "metadata": {},
     "output_type": "execute_result"
    }
   ],
   "source": [
    "y_prob[:10]"
   ]
  },
  {
   "cell_type": "code",
   "execution_count": 69,
   "id": "cea54a18",
   "metadata": {},
   "outputs": [
    {
     "name": "stdout",
     "output_type": "stream",
     "text": [
      "68360\n",
      "72077\n"
     ]
    }
   ],
   "source": [
    "print(sum(y_pred_rfc))\n",
    "print(sum(y_test))"
   ]
  },
  {
   "cell_type": "markdown",
   "id": "b4b1cab0",
   "metadata": {},
   "source": [
    "# Cambio el umbral de decisión para aumentar el recall"
   ]
  },
  {
   "cell_type": "code",
   "execution_count": 93,
   "id": "b90e24c8",
   "metadata": {},
   "outputs": [],
   "source": [
    "y_pred_rfc2 = [1 if e[1]>0.32 else 0 for e in y_prob]"
   ]
  },
  {
   "cell_type": "code",
   "execution_count": 94,
   "id": "bccb5848",
   "metadata": {},
   "outputs": [
    {
     "data": {
      "text/plain": [
       "141187"
      ]
     },
     "execution_count": 94,
     "metadata": {},
     "output_type": "execute_result"
    }
   ],
   "source": [
    "sum(y_pred_rfc2)"
   ]
  },
  {
   "cell_type": "code",
   "execution_count": 95,
   "id": "bfc869c7",
   "metadata": {},
   "outputs": [
    {
     "name": "stdout",
     "output_type": "stream",
     "text": [
      "Precission:  0.41039897440982526\n",
      "Accuracy:  0.557742615267231\n",
      "Recall:  0.8039041580531932\n",
      "F1:  0.543392227473929\n"
     ]
    }
   ],
   "source": [
    "print(\"Precission: \",prec(y_test, y_pred_rfc2))\n",
    "print(\"Accuracy: \",acc(y_test, y_pred_rfc2))\n",
    "print(\"Recall: \",rec(y_test, y_pred_rfc2))\n",
    "print(\"F1: \",f1(y_test, y_pred_rfc2))"
   ]
  },
  {
   "cell_type": "code",
   "execution_count": 96,
   "id": "ffad2228",
   "metadata": {},
   "outputs": [
    {
     "data": {
      "text/plain": [
       "0.6412227954801438"
      ]
     },
     "execution_count": 96,
     "metadata": {},
     "output_type": "execute_result"
    }
   ],
   "source": [
    "sum(y_pred_rfc2)/len(y_pred_rfc2)"
   ]
  },
  {
   "cell_type": "code",
   "execution_count": 97,
   "id": "adcae7df",
   "metadata": {
    "scrolled": true
   },
   "outputs": [
    {
     "data": {
      "image/png": "[encoded data removed]",
      "text/plain": [
       "<Figure size 1500x800 with 2 Axes>"
      ]
     },
     "metadata": {},
     "output_type": "display_data"
    }
   ],
   "source": [
    "cm(y_test, y_pred_rfc2)\n",
    "cm(y_test, y_pred_rfc2)/cm(y_test, y_pred_rfc2).sum()*100\n",
    "plt.figure(figsize=(15, 8))\n",
    "\n",
    "ax=sns.heatmap(cm(y_test, y_pred_rfc2)/cm(y_test, y_pred_rfc2).sum() * 100, \n",
    "               annot=True)\n",
    "\n",
    "plt.title('Matriz confusion')\n",
    "plt.ylabel('Verdad')\n",
    "plt.xlabel('Prediccion')\n",
    "plt.show();"
   ]
  },
  {
   "cell_type": "code",
   "execution_count": 98,
   "id": "29c64366",
   "metadata": {},
   "outputs": [],
   "source": [
    "# cm(y_test, y_pred_rfc)\n",
    "# cm(y_test, y_pred_rfc)/cm(y_test, y_pred_rfc).sum()*100\n",
    "# plt.figure(figsize=(15, 8))\n",
    "\n",
    "# ax=sns.heatmap(cm(y_test, y_pred_rfc)/cm(y_test, y_pred_rfc).sum() * 100, \n",
    "#                annot=True)\n",
    "\n",
    "# plt.title('Matriz confusion')\n",
    "# plt.ylabel('Verdad')\n",
    "# plt.xlabel('Prediccion')"
   ]
  },
  {
   "cell_type": "markdown",
   "id": "0884c077",
   "metadata": {},
   "source": [
    "# Busqueda de Hiperparámetros"
   ]
  },
  {
   "cell_type": "code",
   "execution_count": 99,
   "id": "ed61d749",
   "metadata": {},
   "outputs": [],
   "source": [
    "# # Crear el clasificador RandomForestClassifier\n",
    "# rfc = RandomForestClassifier(n_jobs=4, random_state=42)\n",
    "\n",
    "# # Definir los parámetros que deseas ajustar\n",
    "# param_grid = {\n",
    "#     'n_estimators': [50, 100, 200],\n",
    "#     'max_depth': [None, 10, 20, 30],\n",
    "#     'min_samples_split': [2, 5, 10],\n",
    "#     'min_samples_leaf': [1, 2, 4]\n",
    "# }\n",
    "\n",
    "# # Crear el objeto GridSearchCV\n",
    "# grid_search = GridSearchCV(estimator=rfc, param_grid=param_grid, cv=5, scoring='recall', n_jobs=2)\n",
    "\n",
    "# # Ajustar el modelo a los datos\n",
    "# grid_search.fit(X_resampled, y_resampled)\n",
    "\n",
    "# # Imprimir los mejores hiperparámetros encontrados\n",
    "# print(\"Mejores hiperparámetros:\", grid_search.best_params_)\n",
    "\n",
    "# # Imprimir la precisión del mejor modelo en el conjunto de prueba\n",
    "# print(\"Precisión en el conjunto de prueba:\", grid_search.best_estimator_.score(X_test, y_test))"
   ]
  },
  {
   "cell_type": "code",
   "execution_count": null,
   "id": "8228fb6a",
   "metadata": {},
   "outputs": [],
   "source": []
  },
  {
   "cell_type": "code",
   "execution_count": null,
   "id": "d6aaa51f",
   "metadata": {},
   "outputs": [],
   "source": []
  },
  {
   "cell_type": "code",
   "execution_count": null,
   "id": "791cdec4",
   "metadata": {},
   "outputs": [],
   "source": []
  },
  {
   "cell_type": "code",
   "execution_count": null,
   "id": "61a54c0d",
   "metadata": {},
   "outputs": [],
   "source": []
  },
  {
   "cell_type": "code",
   "execution_count": null,
   "id": "ec9b22d0",
   "metadata": {},
   "outputs": [],
   "source": []
  },
  {
   "cell_type": "code",
   "execution_count": null,
   "id": "8f80a47f",
   "metadata": {},
   "outputs": [],
   "source": []
  },
  {
   "cell_type": "code",
   "execution_count": null,
   "id": "d9e46a2a",
   "metadata": {},
   "outputs": [],
   "source": []
  },
  {
   "cell_type": "code",
   "execution_count": null,
   "id": "41292db3",
   "metadata": {},
   "outputs": [],
   "source": []
  },
  {
   "cell_type": "code",
   "execution_count": null,
   "id": "37d2a2ab",
   "metadata": {},
   "outputs": [],
   "source": []
  },
  {
   "cell_type": "code",
   "execution_count": null,
   "id": "de5d1233",
   "metadata": {},
   "outputs": [],
   "source": []
  }
 ],
 "metadata": {
  "kernelspec": {
   "display_name": "Python 3 (ipykernel)",
   "language": "python",
   "name": "python3"
  },
  "language_info": {
   "codemirror_mode": {
    "name": "ipython",
    "version": 3
   },
   "file_extension": ".py",
   "mimetype": "text/x-python",
   "name": "python",
   "nbconvert_exporter": "python",
   "pygments_lexer": "ipython3",
   "version": "3.11.4"
  }
 },
 "nbformat": 4,
 "nbformat_minor": 5
}
