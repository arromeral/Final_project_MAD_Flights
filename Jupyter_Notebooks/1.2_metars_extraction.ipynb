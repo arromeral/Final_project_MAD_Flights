{
 "cells": [
  {
   "cell_type": "markdown",
   "id": "bb871b5c",
   "metadata": {},
   "source": [
    "# EXTRACCIÓN DE PARTES METAR"
   ]
  },
  {
   "cell_type": "markdown",
   "id": "cf6bebdf",
   "metadata": {},
   "source": [
    "## En este Notebook se va a desarrollar el proceso de estracción de todos los partes METAR del Aeropuerto Adolfo Suárez Madrid-Barajas en el periodo comprendido entre el 01-11-2022 y el 31-10-2023, es decir, 1 año completo."
   ]
  },
  {
   "cell_type": "markdown",
   "id": "c9dfd193",
   "metadata": {},
   "source": [
    "Un parte o código METAR es el estándar internacional en aviación del formato del código utilizado para emitir periódicamente informes de las observaciones meteorológicas en los aeródromos y aeropuertos.\n",
    "\n",
    "Se trata de un reporte breve en forma de código alfanumérico que aporta información meteorológica detallada de un momento determinado en un aeropuerto concreto. Básicamente, es una sucesión de letras y números que se emiten periódicamente por los aeropuertos y aeródromos. \n",
    "\n",
    "Estos partes se emiten periódicamente, generalmente cada 30 minutos, salvo circunstancias excepcionales en las que se pueden emitir partes adicionales. \n",
    "\n",
    "Aunque pueden ser dificíl de descifrar para el usuario general, contienen información de gran relevancia para la actividad aérea relativa a la temperatura, precipitaciones, visibilidad en pista, viento y ráfagas entre otro. Por suerte, se pueden encontrar webs que traducen esta información a un lenguaje más amable y que además mantienen registros de los partes en el tiempo."
   ]
  },
  {
   "cell_type": "markdown",
   "id": "c6fffe93",
   "metadata": {},
   "source": [
    "## Para ello se va a utilizar la técnica de extracción de datos \"webscrapping\" sobre la web [tutiempo](https://www.tutiempo.net/registros/lemd) que mantiene registros de estos partes desde hace vários años.\n"
   ]
  },
  {
   "cell_type": "markdown",
   "id": "adff1426",
   "metadata": {},
   "source": [
    "### Las librerías que se van a emplear principalmente para el proceso son:\n",
    "- **selenium** \n",
    "- **joblib**\n",
    "- **pandas** \n"
   ]
  },
  {
   "cell_type": "code",
   "execution_count": null,
   "id": "462b2b15",
   "metadata": {},
   "outputs": [],
   "source": [
    "# %pip install joblib"
   ]
  },
  {
   "cell_type": "code",
   "execution_count": 1,
   "id": "6dba2751",
   "metadata": {},
   "outputs": [],
   "source": [
    "from joblib import Parallel, delayed\n",
    "from selenium import webdriver\n",
    "from selenium.webdriver.common.by import By\n",
    "from selenium.webdriver.support.ui import Select   # seleccion de un dropdown\n",
    "from selenium.webdriver.chrome.options import Options\n",
    "from selenium.webdriver.common.keys import Keys\n",
    "from selenium.webdriver.support.ui import WebDriverWait\n",
    "from selenium.common.exceptions import TimeoutException\n",
    "import time\n",
    "\n",
    "from selenium.webdriver.support import expected_conditions as EC\n",
    "import time\n",
    "import pandas as pd\n",
    "import multiprocessing as mp\n",
    "import warnings\n",
    "warnings.filterwarnings('ignore')\n",
    "\n",
    "from joblib._parallel_backends import LokyBackend\n",
    "import asyncio\n",
    "\n",
    "from tqdm.notebook import tqdm\n",
    "from datetime import datetime, timedelta"
   ]
  },
  {
   "cell_type": "markdown",
   "id": "33cebbd7",
   "metadata": {},
   "source": [
    "## Se habilitan algunas opciones de interés para el driver"
   ]
  },
  {
   "cell_type": "code",
   "execution_count": 2,
   "id": "35a68897",
   "metadata": {},
   "outputs": [],
   "source": [
    "#driver configuration\n",
    "opciones=Options()\n",
    "\n",
    "opciones.add_experimental_option('excludeSwitches', ['enable-automation'])\n",
    "opciones.add_experimental_option('useAutomationExtension', False)\n",
    "opciones.headless=False    # si True, no aperece la ventana (headless=no visible)\n",
    "opciones.add_argument('--start-maximized')         # comienza maximizado\n",
    "opciones.add_argument('--incognito')"
   ]
  },
  {
   "cell_type": "markdown",
   "id": "ddff1992",
   "metadata": {},
   "source": [
    "# Despues de hacer un estudio sobre la estructura de la web para plantear el proceso de extracción, se observa que en cada página se encuentran exclusivamente los partes de un día en concreto( de media unos 48).\n",
    "\n",
    "## Además, se comprueba que al pasar de un día a otro el *link* de la web varía siguiendo un patrón claro como el siguiente:\n",
    "\n",
    "### - ...tutiempo.net/records/lemd/{<span style=\"color:red\">dia</span>}-{<span style=\"color:red\">mes</span>}-{<span style=\"color:red\">año</span>}.html\n",
    "\n",
    "### Este formate de *links* es de especial ayuda, ya que nos va a permitir paralelizar el proceso con **joblib**, reduciendo considerablemente el tiempo de extracción."
   ]
  },
  {
   "cell_type": "markdown",
   "id": "1c1a8550",
   "metadata": {},
   "source": [
    "## Vamos, por tanto, a generar los diferentes *links* necesarios, en este caso únicamente los del año 2023, de Enero a Octubre.\n",
    "\n",
    "## De momento no nos vamos a preocupar de los días de cada mes, generando 31 links para cada uno de los meses"
   ]
  },
  {
   "cell_type": "code",
   "execution_count": 231,
   "id": "e7e6ea20",
   "metadata": {},
   "outputs": [],
   "source": [
    "# Función para formatear el día eliminando el cero delante de los números del 1 al 9\n",
    "def formatear_dia(dia):\n",
    "    return str(dia) if dia >= 10 else f\"{dia}\"\n",
    "\n",
    "# Definir la fecha de inicio y fin\n",
    "fecha_inicio = datetime(2017, 11, 1)\n",
    "fecha_fin = datetime(2022, 12, 31)\n",
    "\n",
    "# Lista para almacenar los enlaces generados\n",
    "enlaces = []\n",
    "\n",
    "# Bucle para generar los enlaces para cada día en el rango especificado\n",
    "while fecha_inicio <= fecha_fin:\n",
    "    # Formatear la fecha según el formato deseado\n",
    "    formato_fecha = f\"{formatear_dia(fecha_inicio.day)}-{fecha_inicio.strftime('%B')}-{fecha_inicio.year}\".lower()\n",
    "    \n",
    "    # Crear el enlace y añadirlo a la lista\n",
    "    enlace = f\"https://en.tutiempo.net/records/lemd/{formato_fecha}.html\"\n",
    "    enlaces.append(enlace)\n",
    "    \n",
    "    # Avanzar al siguiente día\n",
    "    fecha_inicio += timedelta(days=1)\n"
   ]
  },
  {
   "cell_type": "code",
   "execution_count": 232,
   "id": "afacd1a2",
   "metadata": {},
   "outputs": [
    {
     "data": {
      "text/plain": [
       "1887"
      ]
     },
     "execution_count": 232,
     "metadata": {},
     "output_type": "execute_result"
    }
   ],
   "source": [
    "len(enlaces)"
   ]
  },
  {
   "cell_type": "code",
   "execution_count": null,
   "id": "0272d2b6",
   "metadata": {},
   "outputs": [],
   "source": []
  },
  {
   "cell_type": "code",
   "execution_count": null,
   "id": "462ca77d",
   "metadata": {},
   "outputs": [],
   "source": [
    "# meses = [\"january\",\"february\",\"march\",\"april\",\"may\",\"june\",\"july\",\"august\",\"september\",\"october\"]\n",
    "# dias = []\n",
    "# for i in range(1,32):\n",
    "#     dias.append(str(i))\n"
   ]
  },
  {
   "cell_type": "code",
   "execution_count": null,
   "id": "7229f910",
   "metadata": {},
   "outputs": [],
   "source": [
    "# urls = []\n",
    "# for mes in meses:\n",
    "#     for dia in dias:\n",
    "#         urls.append(f'https://en.tutiempo.net/records/lemd/{dia}-{mes}-{año}.html')"
   ]
  },
  {
   "cell_type": "markdown",
   "id": "7e876fd5",
   "metadata": {},
   "source": [
    "# La siguiente función <span style=\"color:red\">extraer</span>, engloba el proceso de extraccíon de los datos necesarios para cada una de las *urls*.\n",
    "\n",
    "## Los comentaríos de la función explican paso por paso la lógica del proceso.\n",
    "## A modo de resumen, el driver entra en la página, *clicka* aceptar en los popups de cookies, extrae los datos necesarios almacenadolos en una tabla y finálmente devuelve un DataFrame con los registro METAR de ese día."
   ]
  },
  {
   "cell_type": "code",
   "execution_count": null,
   "id": "b81576c5",
   "metadata": {},
   "outputs": [],
   "source": [
    "def extraer(url):\n",
    "    table = []  # Inicializa table como una lista vacía\n",
    "    columns = [] # Inicializa columns como una lista vacía\n",
    "    \n",
    "    try:\n",
    "        # inicia el driver en la url indicada\n",
    "        driver = webdriver.Chrome()\n",
    "        driver.get(url)\n",
    "        wait = WebDriverWait(driver, 20)\n",
    "        \n",
    "        time.sleep(3) #espera a cargar la página\n",
    "        \n",
    "        # acepta normas\n",
    "        aceptar = driver.find_element(By.XPATH,'/html/body/div[18]/div[2]/div[1]/div[2]/div[2]/button[1]')\n",
    "        aceptar.click()\n",
    "\n",
    "        time.sleep(3) #espera a cargar la página\n",
    "        \n",
    "        #acepta cookies    \n",
    "        aceptar = driver.find_element(By.XPATH, '//*[@id=\"DivAceptarCookies\"]/div/a[2]')\n",
    "        aceptar.click()\n",
    "        \n",
    "        time.sleep(4) #espera a cargar la página\n",
    "        \n",
    "        day = driver.find_elements(By.XPATH, '//table//tbody//tr')[1].text\n",
    "\n",
    "        table = [row.text.split('\\n')[0:3] + row.text.replace(' km/h', '').split('\\n')[-1].split(' ', 2)\n",
    "                 for row in driver.find_elements(By.XPATH, '//table//tbody//tr')[3::2]]  #copia los registros\n",
    "     \n",
    "        columns = [\"Day\", \"Hour\", \"Condition\", \"Temperature\", \"Wind\", \"Relative_hum\", \"Pressure\"] #añade las columnas\n",
    "\n",
    "        for i in table:\n",
    "            i.insert(0, day) #inserta los registros en la tabla\n",
    "            \n",
    "        return pd.DataFrame(table, columns=columns) #devuelve un dataframe con los datos de ese día \n",
    "        \n",
    "    except Exception as e:  # Captura cualquier excepción y muestra el mensaje de error\n",
    "        print(f\"Error: {e}\")\n",
    "        print(f\"Error en la URL: {url}\")\n",
    "        # En caso de error, simplemente se devolverá la lista vacía 'table'\n",
    "        return pd.DataFrame(table, columns=columns) \n",
    "    driver.quit()\n",
    "    return pd.DataFrame(table, columns=columns)"
   ]
  },
  {
   "cell_type": "markdown",
   "id": "ffac6a28",
   "metadata": {},
   "source": [
    "## El siguiente código inicia el proceso de extracción usando la paralelización con 8 núcleos, es decir, realiza el proceso en *8 urls* simultáneamente.\n",
    "\n",
    "Aunque se podría haber utilizado el proceso una única vez, se decide hacer una extracción por cada uno de los meses, mediante los índices de la tabla de urls, con el objetivo de tener un mayor control ante posibles incidencias del proceso, y poder obtener diferentes registros mensuales."
   ]
  },
  {
   "cell_type": "code",
   "execution_count": null,
   "id": "c536f969",
   "metadata": {},
   "outputs": [],
   "source": [
    "dias = []"
   ]
  },
  {
   "cell_type": "code",
   "execution_count": 59,
   "id": "7a3c9495",
   "metadata": {},
   "outputs": [],
   "source": [
    "def extraer(url):\n",
    "    table = []  # Inicializa table como una lista vacía\n",
    "    columns = []  # Inicializa columns como una lista vacía\n",
    "    \n",
    "    try:\n",
    "        # Inicia el driver en la URL indicada\n",
    "        driver = webdriver.Chrome()\n",
    "        driver.get(url)\n",
    "        wait = WebDriverWait(driver, 60)\n",
    "        \n",
    "        # Esperar a que aparezca el botón de aceptar normas\n",
    "        normas_button_xpath = '/html/body/div[18]/div[2]/div[1]/div[2]/div[2]/button[1]'\n",
    "        wait.until(EC.element_to_be_clickable((By.XPATH, normas_button_xpath)))\n",
    "        normas_button = driver.find_element(By.XPATH, normas_button_xpath)\n",
    "        normas_button.click()\n",
    "        print(\"Aceptado normas\")\n",
    "\n",
    "        # Esperar a que aparezca el botón de aceptar cookies\n",
    "        cookies_button_xpath = '//*[@id=\"DivAceptarCookies\"]/div/a[2]'\n",
    "        wait.until(EC.element_to_be_clickable((By.XPATH, cookies_button_xpath)))\n",
    "        cookies_button = driver.find_element(By.XPATH, cookies_button_xpath)\n",
    "        cookies_button.click()\n",
    "        print(\"Aceptadas cookies\")\n",
    "        \n",
    "        # Esperar a que cargue la página (usando un elemento en la tabla como referencia)\n",
    "        wait.until(EC.presence_of_element_located((By.XPATH, '//table//tbody//tr[3]')))\n",
    "        print(\"Página cargada\")\n",
    "\n",
    "        day = driver.find_elements(By.XPATH, '//table//tbody//tr')[1].text\n",
    "\n",
    "        time.sleep(5)\n",
    "        table = [\n",
    "            row.text.split('\\n')[0:3] + row.text.replace(' km/h', '').split('\\n')[-1].split(' ', 2)\n",
    "            for row in driver.find_elements(By.XPATH, '//table//tbody//tr')[3::2]\n",
    "        ]  # Copia los registros\n",
    "        print(\"Registros extraídos\")\n",
    "        \n",
    "        columns = [\"Day\", \"Hour\", \"Condition\", \"Temperature\", \"Wind\", \"Relative_hum\", \"Pressure\"]  # Añade las columnas\n",
    "\n",
    "        for i in table:\n",
    "            i.insert(0, day)  # Inserta los registros en la tabla\n",
    "            \n",
    "        return pd.DataFrame(table, columns=columns)  # Devuelve un DataFrame con los datos de ese día\n",
    "        \n",
    "    except TimeoutException as te:  # Captura TimeoutException\n",
    "        print(f\"Excepción de tiempo de espera: {te}\")\n",
    "        print(f\"No se pudo completar la extracción en la URL: {url}\")\n",
    "        return pd.DataFrame(table, columns=columns) \n",
    "    except Exception as e:  # Captura otras excepciones\n",
    "        print(f\"Error: {e}\")\n",
    "        print(f\"Error en la URL: {url}\")\n",
    "        return pd.DataFrame(table, columns=columns) \n",
    "    finally:\n",
    "        driver.quit()"
   ]
  },
  {
   "cell_type": "code",
   "execution_count": 256,
   "id": "af3976da",
   "metadata": {},
   "outputs": [
    {
     "data": {
      "application/vnd.jupyter.widget-view+json": {
       "model_id": "3a1194425f51422faea696afd4110307",
       "version_major": 2,
       "version_minor": 0
      },
      "text/plain": [
       "  0%|          | 0/3 [00:00<?, ?it/s]"
      ]
     },
     "metadata": {},
     "output_type": "display_data"
    },
    {
     "name": "stderr",
     "output_type": "stream",
     "text": [
      "[Parallel(n_jobs=1)]: Using backend SequentialBackend with 1 concurrent workers.\n"
     ]
    },
    {
     "name": "stdout",
     "output_type": "stream",
     "text": [
      "Aceptado normas\n",
      "Aceptadas cookies\n",
      "Página cargada\n",
      "Registros extraídos\n",
      "Aceptado normas\n",
      "Aceptadas cookies\n",
      "Error: Message: no such window: target window already closed\n",
      "from unknown error: web view not found\n",
      "  (Session info: chrome=119.0.6045.199)\n",
      "Stacktrace:\n",
      "\tGetHandleVerifier [0x00007FF62DEF82B2+55298]\n",
      "\t(No symbol) [0x00007FF62DE65E02]\n",
      "\t(No symbol) [0x00007FF62DD205AB]\n",
      "\t(No symbol) [0x00007FF62DD00038]\n",
      "\t(No symbol) [0x00007FF62DD86BC7]\n",
      "\t(No symbol) [0x00007FF62DD9A15F]\n",
      "\t(No symbol) [0x00007FF62DD81E83]\n",
      "\t(No symbol) [0x00007FF62DD5670A]\n",
      "\t(No symbol) [0x00007FF62DD57964]\n",
      "\tGetHandleVerifier [0x00007FF62E270AAB+3694587]\n",
      "\tGetHandleVerifier [0x00007FF62E2C728E+4048862]\n",
      "\tGetHandleVerifier [0x00007FF62E2BF173+4015811]\n",
      "\tGetHandleVerifier [0x00007FF62DF947D6+695590]\n",
      "\t(No symbol) [0x00007FF62DE70CE8]\n",
      "\t(No symbol) [0x00007FF62DE6CF34]\n",
      "\t(No symbol) [0x00007FF62DE6D062]\n",
      "\t(No symbol) [0x00007FF62DE5D3A3]\n",
      "\tBaseThreadInitThunk [0x00007FFF9CA3257D+29]\n",
      "\tRtlUserThreadStart [0x00007FFF9D6CAA58+40]\n",
      "\n",
      "Error en la URL: https://en.tutiempo.net/records/lemd/14-october-2020.html\n",
      "Aceptado normas\n",
      "Aceptadas cookies\n",
      "Página cargada\n",
      "Registros extraídos\n",
      "CPU times: total: 438 ms\n",
      "Wall time: 1min 45s\n"
     ]
    },
    {
     "name": "stderr",
     "output_type": "stream",
     "text": [
      "[Parallel(n_jobs=1)]: Done   3 out of   3 | elapsed:  1.8min finished\n"
     ]
    }
   ],
   "source": [
    "%%time\n",
    "paralelo = Parallel(n_jobs=1, verbose=True)\n",
    "\n",
    "lst_df = paralelo(delayed(extraer)(url) for url in tqdm(enlaces2))"
   ]
  },
  {
   "cell_type": "markdown",
   "id": "404d863f",
   "metadata": {},
   "source": [
    "## Obtenidos los DataFrame para cada unos de los días del mes, se contatenan los DataFrame y se hace una breve exploración sobre el resultado para observar si se han obtenido todos los registros necesarios."
   ]
  },
  {
   "cell_type": "code",
   "execution_count": 14,
   "id": "7f57a118",
   "metadata": {},
   "outputs": [
    {
     "name": "stdout",
     "output_type": "stream",
     "text": [
      "16840\n"
     ]
    }
   ],
   "source": [
    "\n",
    "pd.set_option('display.max_rows', None)\n",
    "metar_2018 = pd.concat(lst_df)\n",
    "print(len(metar_2018))"
   ]
  },
  {
   "cell_type": "code",
   "execution_count": 15,
   "id": "b70cb44f",
   "metadata": {},
   "outputs": [
    {
     "data": {
      "text/plain": [
       "347"
      ]
     },
     "execution_count": 15,
     "metadata": {},
     "output_type": "execute_result"
    }
   ],
   "source": [
    "len(metar_2018.Day.value_counts())"
   ]
  },
  {
   "cell_type": "code",
   "execution_count": 39,
   "id": "d089a9ae",
   "metadata": {},
   "outputs": [],
   "source": [
    "# metar_2018.Day.value_counts()"
   ]
  },
  {
   "cell_type": "code",
   "execution_count": 32,
   "id": "dfc0704f",
   "metadata": {},
   "outputs": [],
   "source": [
    "lista2018 = list(metar_2018.Day.unique())\n",
    "# lista2018"
   ]
  },
  {
   "cell_type": "code",
   "execution_count": 22,
   "id": "6eb31491",
   "metadata": {},
   "outputs": [
    {
     "name": "stdout",
     "output_type": "stream",
     "text": [
      "16826\n"
     ]
    }
   ],
   "source": [
    "metar_2019 = pd.concat(lst_df)\n",
    "print(len(metar_2019))"
   ]
  },
  {
   "cell_type": "code",
   "execution_count": 23,
   "id": "2a352f4e",
   "metadata": {},
   "outputs": [
    {
     "data": {
      "text/plain": [
       "347"
      ]
     },
     "execution_count": 23,
     "metadata": {},
     "output_type": "execute_result"
    }
   ],
   "source": [
    "len(metar_2019.Day.value_counts())"
   ]
  },
  {
   "cell_type": "code",
   "execution_count": 29,
   "id": "db57f444",
   "metadata": {},
   "outputs": [],
   "source": [
    "# metar_2019[metar_2019.Day == 'Thursday 31 January 2019']"
   ]
  },
  {
   "cell_type": "code",
   "execution_count": 40,
   "id": "1de3c2c3",
   "metadata": {},
   "outputs": [],
   "source": [
    "# metar_2019.Day.value_counts()"
   ]
  },
  {
   "cell_type": "code",
   "execution_count": 33,
   "id": "49a53c70",
   "metadata": {},
   "outputs": [],
   "source": [
    "lista2019 = list(metar_2019.Day.unique())"
   ]
  },
  {
   "cell_type": "code",
   "execution_count": 41,
   "id": "c00e6183",
   "metadata": {},
   "outputs": [
    {
     "name": "stdout",
     "output_type": "stream",
     "text": [
      "17455\n"
     ]
    }
   ],
   "source": [
    "metar_2020 = pd.concat(lst_df)\n",
    "print(len(metar_2020))"
   ]
  },
  {
   "cell_type": "code",
   "execution_count": 42,
   "id": "f853f47f",
   "metadata": {},
   "outputs": [
    {
     "data": {
      "text/plain": [
       "361"
      ]
     },
     "execution_count": 42,
     "metadata": {},
     "output_type": "execute_result"
    }
   ],
   "source": [
    "len(metar_2020.Day.value_counts())"
   ]
  },
  {
   "cell_type": "code",
   "execution_count": 51,
   "id": "5afa4238",
   "metadata": {},
   "outputs": [],
   "source": [
    "# metar_2020.Day.value_counts()"
   ]
  },
  {
   "cell_type": "code",
   "execution_count": 44,
   "id": "526c7165",
   "metadata": {},
   "outputs": [],
   "source": [
    "metar_2020.Day.value_counts()"
   ]
  },
  {
   "cell_type": "code",
   "execution_count": 53,
   "id": "c3e7879b",
   "metadata": {},
   "outputs": [
    {
     "name": "stdout",
     "output_type": "stream",
     "text": [
      "17451\n"
     ]
    }
   ],
   "source": [
    "metar_2021 = pd.concat(lst_df)\n",
    "print(len(metar_2021))"
   ]
  },
  {
   "cell_type": "code",
   "execution_count": 54,
   "id": "1a0a39e6",
   "metadata": {},
   "outputs": [
    {
     "data": {
      "text/plain": [
       "359"
      ]
     },
     "execution_count": 54,
     "metadata": {},
     "output_type": "execute_result"
    }
   ],
   "source": [
    "len(metar_2021.Day.value_counts())"
   ]
  },
  {
   "cell_type": "code",
   "execution_count": 61,
   "id": "642421b2",
   "metadata": {},
   "outputs": [],
   "source": [
    "# metar_2021.Day.value_counts()"
   ]
  },
  {
   "cell_type": "code",
   "execution_count": 62,
   "id": "8b0b1a7f",
   "metadata": {},
   "outputs": [
    {
     "name": "stdout",
     "output_type": "stream",
     "text": [
      "17432\n"
     ]
    }
   ],
   "source": [
    "metar_2022 = pd.concat(lst_df)\n",
    "print(len(metar_2022))"
   ]
  },
  {
   "cell_type": "code",
   "execution_count": 63,
   "id": "8967bb8a",
   "metadata": {},
   "outputs": [
    {
     "data": {
      "text/plain": [
       "359"
      ]
     },
     "execution_count": 63,
     "metadata": {},
     "output_type": "execute_result"
    }
   ],
   "source": [
    "len(metar_2022.Day.value_counts())"
   ]
  },
  {
   "cell_type": "code",
   "execution_count": 64,
   "id": "0697be5b",
   "metadata": {},
   "outputs": [
    {
     "data": {
      "text/plain": [
       "Saturday 26 March 2022         98\n",
       "Monday 19 December 2022        55\n",
       "Thursday 3 March 2022          55\n",
       "Tuesday 26 April 2022          54\n",
       "Tuesday 20 December 2022       54\n",
       "Tuesday 13 December 2022       53\n",
       "Thursday 8 December 2022       53\n",
       "Monday 5 December 2022         53\n",
       "Saturday 12 March 2022         53\n",
       "Monday 10 October 2022         53\n",
       "Sunday 25 December 2022        53\n",
       "Wednesday 14 December 2022     53\n",
       "Friday 22 April 2022           52\n",
       "Monday 21 November 2022        52\n",
       "Friday 4 November 2022         52\n",
       "Friday 21 October 2022         52\n",
       "Tuesday 15 November 2022       52\n",
       "Tuesday 12 April 2022          52\n",
       "Monday 12 December 2022        52\n",
       "Saturday 18 June 2022          52\n",
       "Tuesday 20 September 2022      52\n",
       "Wednesday 21 December 2022     52\n",
       "Thursday 15 December 2022      51\n",
       "Sunday 23 October 2022         51\n",
       "Friday 25 March 2022           51\n",
       "Monday 21 March 2022           51\n",
       "Wednesday 3 August 2022        51\n",
       "Monday 14 March 2022           51\n",
       "Tuesday 13 September 2022      51\n",
       "Sunday 18 December 2022        51\n",
       "Wednesday 27 April 2022        51\n",
       "Friday 9 December 2022         51\n",
       "Thursday 15 September 2022     51\n",
       "Tuesday 22 November 2022       51\n",
       "Monday 7 March 2022            50\n",
       "Saturday 21 May 2022           50\n",
       "Saturday 12 November 2022      50\n",
       "Saturday 26 February 2022      50\n",
       "Monday 2 May 2022              50\n",
       "Monday 29 August 2022          50\n",
       "Thursday 24 November 2022      50\n",
       "Monday 10 January 2022         50\n",
       "Sunday 4 December 2022         50\n",
       "Monday 17 October 2022         49\n",
       "Wednesday 30 March 2022        49\n",
       "Friday 11 March 2022           49\n",
       "Thursday 16 June 2022          49\n",
       "Monday 24 October 2022         49\n",
       "Tuesday 8 November 2022        49\n",
       "Wednesday 9 November 2022      49\n",
       "Thursday 20 October 2022       49\n",
       "Saturday 22 October 2022       49\n",
       "Friday 16 September 2022       49\n",
       "Monday 28 November 2022        49\n",
       "Wednesday 23 November 2022     49\n",
       "Sunday 1 May 2022              49\n",
       "Saturday 30 April 2022         49\n",
       "Sunday 11 December 2022        49\n",
       "Saturday 14 May 2022           49\n",
       "Tuesday 19 April 2022          49\n",
       "Tuesday 2 August 2022          49\n",
       "Monday 27 June 2022            49\n",
       "Monday 14 November 2022        49\n",
       "Thursday 29 September 2022     49\n",
       "Wednesday 16 November 2022     49\n",
       "Tuesday 29 March 2022          49\n",
       "Wednesday 31 August 2022       48\n",
       "Wednesday 7 September 2022     48\n",
       "Tuesday 6 September 2022       48\n",
       "Wednesday 14 September 2022    48\n",
       "Friday 26 August 2022          48\n",
       "Sunday 4 September 2022        48\n",
       "Monday 12 September 2022       48\n",
       "Sunday 11 September 2022       48\n",
       "Saturday 10 September 2022     48\n",
       "Tuesday 30 August 2022         48\n",
       "Saturday 3 September 2022      48\n",
       "Saturday 27 August 2022        48\n",
       "Sunday 28 August 2022          48\n",
       "Friday 2 September 2022        48\n",
       "Thursday 1 September 2022      48\n",
       "Friday 9 September 2022        48\n",
       "Thursday 8 September 2022      48\n",
       "Monday 5 September 2022        48\n",
       "Saturday 1 January 2022        48\n",
       "Thursday 25 August 2022        48\n",
       "Friday 5 August 2022           48\n",
       "Monday 1 August 2022           48\n",
       "Sunday 31 July 2022            48\n",
       "Saturday 30 July 2022          48\n",
       "Friday 29 July 2022            48\n",
       "Thursday 28 July 2022          48\n",
       "Wednesday 27 July 2022         48\n",
       "Tuesday 26 July 2022           48\n",
       "Monday 25 July 2022            48\n",
       "Sunday 24 July 2022            48\n",
       "Saturday 23 July 2022          48\n",
       "Thursday 21 July 2022          48\n",
       "Wednesday 20 July 2022         48\n",
       "Tuesday 19 July 2022           48\n",
       "Monday 18 July 2022            48\n",
       "Sunday 17 July 2022            48\n",
       "Thursday 4 August 2022         48\n",
       "Saturday 6 August 2022         48\n",
       "Wednesday 24 August 2022       48\n",
       "Sunday 7 August 2022           48\n",
       "Tuesday 23 August 2022         48\n",
       "Monday 22 August 2022          48\n",
       "Sunday 21 August 2022          48\n",
       "Saturday 20 August 2022        48\n",
       "Friday 19 August 2022          48\n",
       "Thursday 18 August 2022        48\n",
       "Wednesday 17 August 2022       48\n",
       "Tuesday 16 August 2022         48\n",
       "Saturday 17 September 2022     48\n",
       "Sunday 14 August 2022          48\n",
       "Saturday 13 August 2022        48\n",
       "Friday 12 August 2022          48\n",
       "Wednesday 10 August 2022       48\n",
       "Tuesday 9 August 2022          48\n",
       "Monday 8 August 2022           48\n",
       "Monday 15 August 2022          48\n",
       "Friday 7 October 2022          48\n",
       "Sunday 18 September 2022       48\n",
       "Wednesday 30 November 2022     48\n",
       "Thursday 3 November 2022       48\n",
       "Saturday 5 November 2022       48\n",
       "Sunday 6 November 2022         48\n",
       "Monday 7 November 2022         48\n",
       "Thursday 10 November 2022      48\n",
       "Friday 11 November 2022        48\n",
       "Sunday 13 November 2022        48\n",
       "Thursday 17 November 2022      48\n",
       "Saturday 19 November 2022      48\n",
       "Sunday 20 November 2022        48\n",
       "Friday 25 November 2022        48\n",
       "Saturday 26 November 2022      48\n",
       "Sunday 27 November 2022        48\n",
       "Tuesday 29 November 2022       48\n",
       "Thursday 1 December 2022       48\n",
       "Monday 19 September 2022       48\n",
       "Friday 2 December 2022         48\n",
       "Saturday 3 December 2022       48\n",
       "Tuesday 6 December 2022        48\n",
       "Wednesday 7 December 2022      48\n",
       "Saturday 10 December 2022      48\n",
       "Friday 16 December 2022        48\n",
       "Saturday 17 December 2022      48\n",
       "Thursday 22 December 2022      48\n",
       "Friday 23 December 2022        48\n",
       "Saturday 24 December 2022      48\n",
       "Tuesday 27 December 2022       48\n",
       "Wednesday 28 December 2022     48\n",
       "Thursday 29 December 2022      48\n",
       "Friday 30 December 2022        48\n",
       "Wednesday 2 November 2022      48\n",
       "Tuesday 1 November 2022        48\n",
       "Monday 31 October 2022         48\n",
       "Saturday 29 October 2022       48\n",
       "Wednesday 21 September 2022    48\n",
       "Thursday 22 September 2022     48\n",
       "Friday 23 September 2022       48\n",
       "Saturday 24 September 2022     48\n",
       "Sunday 25 September 2022       48\n",
       "Monday 26 September 2022       48\n",
       "Tuesday 27 September 2022      48\n",
       "Wednesday 28 September 2022    48\n",
       "Friday 30 September 2022       48\n",
       "Saturday 1 October 2022        48\n",
       "Sunday 2 October 2022          48\n",
       "Monday 3 October 2022          48\n",
       "Tuesday 4 October 2022         48\n",
       "Wednesday 5 October 2022       48\n",
       "Thursday 6 October 2022        48\n",
       "Friday 15 July 2022            48\n",
       "Saturday 8 October 2022        48\n",
       "Sunday 9 October 2022          48\n",
       "Tuesday 11 October 2022        48\n",
       "Wednesday 12 October 2022      48\n",
       "Thursday 13 October 2022       48\n",
       "Friday 14 October 2022         48\n",
       "Sunday 16 October 2022         48\n",
       "Tuesday 18 October 2022        48\n",
       "Wednesday 19 October 2022      48\n",
       "Tuesday 25 October 2022        48\n",
       "Wednesday 26 October 2022      48\n",
       "Thursday 27 October 2022       48\n",
       "Friday 28 October 2022         48\n",
       "Saturday 16 July 2022          48\n",
       "Tuesday 5 July 2022            48\n",
       "Thursday 14 July 2022          48\n",
       "Saturday 9 April 2022          48\n",
       "Tuesday 8 March 2022           48\n",
       "Sunday 6 March 2022            48\n",
       "Saturday 5 March 2022          48\n",
       "Friday 4 March 2022            48\n",
       "Wednesday 2 March 2022         48\n",
       "Monday 28 February 2022        48\n",
       "Sunday 27 February 2022        48\n",
       "Friday 25 February 2022        48\n",
       "Thursday 24 February 2022      48\n",
       "Wednesday 23 February 2022     48\n",
       "Tuesday 22 February 2022       48\n",
       "Monday 21 February 2022        48\n",
       "Sunday 20 February 2022        48\n",
       "Saturday 19 February 2022      48\n",
       "Friday 18 February 2022        48\n",
       "Thursday 17 February 2022      48\n",
       "Wednesday 16 February 2022     48\n",
       "Wednesday 9 March 2022         48\n",
       "Thursday 10 March 2022         48\n",
       "Sunday 13 March 2022           48\n",
       "Monday 28 March 2022           48\n",
       "Wednesday 13 July 2022         48\n",
       "Tuesday 5 April 2022           48\n",
       "Monday 4 April 2022            48\n",
       "Sunday 3 April 2022            48\n",
       "Saturday 2 April 2022          48\n",
       "Friday 1 April 2022            48\n",
       "Thursday 31 March 2022         48\n",
       "Thursday 24 March 2022         48\n",
       "Tuesday 15 March 2022          48\n",
       "Wednesday 23 March 2022        48\n",
       "Tuesday 22 March 2022          48\n",
       "Sunday 20 March 2022           48\n",
       "Saturday 19 March 2022         48\n",
       "Friday 18 March 2022           48\n",
       "Thursday 17 March 2022         48\n",
       "Wednesday 16 March 2022        48\n",
       "Tuesday 15 February 2022       48\n",
       "Monday 14 February 2022        48\n",
       "Sunday 13 February 2022        48\n",
       "Wednesday 12 January 2022      48\n",
       "Friday 21 January 2022         48\n",
       "Wednesday 19 January 2022      48\n",
       "Tuesday 18 January 2022        48\n",
       "Monday 17 January 2022         48\n",
       "Saturday 15 January 2022       48\n",
       "Friday 14 January 2022         48\n",
       "Thursday 13 January 2022       48\n",
       "Tuesday 11 January 2022        48\n",
       "Sunday 23 January 2022         48\n",
       "Sunday 9 January 2022          48\n",
       "Saturday 8 January 2022        48\n",
       "Friday 7 January 2022          48\n",
       "Thursday 6 January 2022        48\n",
       "Wednesday 5 January 2022       48\n",
       "Tuesday 4 January 2022         48\n",
       "Monday 3 January 2022          48\n",
       "Saturday 22 January 2022       48\n",
       "Monday 24 January 2022         48\n",
       "Saturday 12 February 2022      48\n",
       "Friday 4 February 2022         48\n",
       "Friday 11 February 2022        48\n",
       "Thursday 10 February 2022      48\n",
       "Wednesday 9 February 2022      48\n",
       "Tuesday 8 February 2022        48\n",
       "Monday 7 February 2022         48\n",
       "Sunday 6 February 2022         48\n",
       "Saturday 5 February 2022       48\n",
       "Thursday 3 February 2022       48\n",
       "Tuesday 25 January 2022        48\n",
       "Tuesday 1 February 2022        48\n",
       "Monday 31 January 2022         48\n",
       "Sunday 30 January 2022         48\n",
       "Saturday 29 January 2022       48\n",
       "Friday 28 January 2022         48\n",
       "Thursday 27 January 2022       48\n",
       "Wednesday 26 January 2022      48\n",
       "Friday 8 April 2022            48\n",
       "Wednesday 6 April 2022         48\n",
       "Sunday 10 April 2022           48\n",
       "Sunday 29 May 2022             48\n",
       "Friday 17 June 2022            48\n",
       "Wednesday 15 June 2022         48\n",
       "Tuesday 14 June 2022           48\n",
       "Monday 13 June 2022            48\n",
       "Sunday 12 June 2022            48\n",
       "Saturday 11 June 2022          48\n",
       "Friday 10 June 2022            48\n",
       "Thursday 9 June 2022           48\n",
       "Wednesday 8 June 2022          48\n",
       "Tuesday 7 June 2022            48\n",
       "Monday 6 June 2022             48\n",
       "Sunday 5 June 2022             48\n",
       "Saturday 4 June 2022           48\n",
       "Thursday 2 June 2022           48\n",
       "Monday 11 April 2022           48\n",
       "Wednesday 1 June 2022          48\n",
       "Tuesday 31 May 2022            48\n",
       "Sunday 19 June 2022            48\n",
       "Monday 20 June 2022            48\n",
       "Tuesday 21 June 2022           48\n",
       "Sunday 3 July 2022             48\n",
       "Tuesday 12 July 2022           48\n",
       "Monday 11 July 2022            48\n",
       "Sunday 10 July 2022            48\n",
       "Saturday 9 July 2022           48\n",
       "Friday 8 July 2022             48\n",
       "Sunday 2 January 2022          48\n",
       "Monday 4 July 2022             48\n",
       "Saturday 2 July 2022           48\n",
       "Thursday 23 June 2022          48\n",
       "Friday 1 July 2022             48\n",
       "Thursday 30 June 2022          48\n",
       "Wednesday 29 June 2022         48\n",
       "Tuesday 28 June 2022           48\n",
       "Sunday 26 June 2022            48\n",
       "Saturday 25 June 2022          48\n",
       "Friday 24 June 2022            48\n",
       "Monday 30 May 2022             48\n",
       "Saturday 31 December 2022      48\n",
       "Saturday 28 May 2022           48\n",
       "Sunday 24 April 2022           48\n",
       "Friday 6 May 2022              48\n",
       "Friday 27 May 2022             48\n",
       "Wednesday 4 May 2022           48\n",
       "Tuesday 3 May 2022             48\n",
       "Friday 29 April 2022           48\n",
       "Thursday 28 April 2022         48\n",
       "Monday 25 April 2022           48\n",
       "Saturday 23 April 2022         48\n",
       "Sunday 8 May 2022              48\n",
       "Wednesday 20 April 2022        48\n",
       "Monday 18 April 2022           48\n",
       "Sunday 17 April 2022           48\n",
       "Saturday 16 April 2022         48\n",
       "Friday 15 April 2022           48\n",
       "Thursday 14 April 2022         48\n",
       "Wednesday 13 April 2022        48\n",
       "Saturday 7 May 2022            48\n",
       "Thursday 5 May 2022            48\n",
       "Thursday 19 May 2022           48\n",
       "Tuesday 10 May 2022            48\n",
       "Wednesday 11 May 2022          48\n",
       "Sunday 22 May 2022             48\n",
       "Friday 13 May 2022             48\n",
       "Sunday 15 May 2022             48\n",
       "Tuesday 24 May 2022            48\n",
       "Monday 16 May 2022             48\n",
       "Tuesday 17 May 2022            48\n",
       "Thursday 26 May 2022           48\n",
       "Friday 20 May 2022             48\n",
       "Monday 9 May 2022              48\n",
       "Wednesday 18 May 2022          48\n",
       "Friday 18 November 2022        47\n",
       "Friday 22 July 2022            47\n",
       "Tuesday 1 March 2022           47\n",
       "Sunday 16 January 2022         47\n",
       "Monday 23 May 2022             47\n",
       "Thursday 20 January 2022       47\n",
       "Thursday 7 April 2022          47\n",
       "Wednesday 22 June 2022         47\n",
       "Monday 26 December 2022        47\n",
       "Thursday 11 August 2022        46\n",
       "Sunday 30 October 2022         46\n",
       "Saturday 15 October 2022       44\n",
       "Wednesday 6 July 2022          43\n",
       "Thursday 7 July 2022           42\n",
       "Name: Day, dtype: int64"
      ]
     },
     "execution_count": 64,
     "metadata": {},
     "output_type": "execute_result"
    }
   ],
   "source": [
    "metar_2022.Day.value_counts()"
   ]
  },
  {
   "cell_type": "code",
   "execution_count": 70,
   "id": "2cff9913",
   "metadata": {},
   "outputs": [
    {
     "data": {
      "text/html": [
       "<div>\n",
       "<style scoped>\n",
       "    .dataframe tbody tr th:only-of-type {\n",
       "        vertical-align: middle;\n",
       "    }\n",
       "\n",
       "    .dataframe tbody tr th {\n",
       "        vertical-align: top;\n",
       "    }\n",
       "\n",
       "    .dataframe thead th {\n",
       "        text-align: right;\n",
       "    }\n",
       "</style>\n",
       "<table border=\"1\" class=\"dataframe\">\n",
       "  <thead>\n",
       "    <tr style=\"text-align: right;\">\n",
       "      <th></th>\n",
       "      <th>Day</th>\n",
       "      <th>Hour</th>\n",
       "      <th>Condition</th>\n",
       "      <th>Temperature</th>\n",
       "      <th>Wind</th>\n",
       "      <th>Relative_hum</th>\n",
       "      <th>Pressure</th>\n",
       "    </tr>\n",
       "  </thead>\n",
       "  <tbody>\n",
       "    <tr>\n",
       "      <th>0</th>\n",
       "      <td>Monday 1 January 2018</td>\n",
       "      <td>00:00</td>\n",
       "      <td>Clear</td>\n",
       "      <td>8°</td>\n",
       "      <td>19</td>\n",
       "      <td>57%</td>\n",
       "      <td>1030 hPa</td>\n",
       "    </tr>\n",
       "    <tr>\n",
       "      <th>1</th>\n",
       "      <td>Monday 1 January 2018</td>\n",
       "      <td>00:30</td>\n",
       "      <td>Clear</td>\n",
       "      <td>7°</td>\n",
       "      <td>15</td>\n",
       "      <td>66%</td>\n",
       "      <td>1030 hPa</td>\n",
       "    </tr>\n",
       "    <tr>\n",
       "      <th>2</th>\n",
       "      <td>Monday 1 January 2018</td>\n",
       "      <td>01:00</td>\n",
       "      <td>Clear</td>\n",
       "      <td>7°</td>\n",
       "      <td>20</td>\n",
       "      <td>66%</td>\n",
       "      <td>1030 hPa</td>\n",
       "    </tr>\n",
       "    <tr>\n",
       "      <th>3</th>\n",
       "      <td>Monday 1 January 2018</td>\n",
       "      <td>01:30</td>\n",
       "      <td>Clear</td>\n",
       "      <td>8°</td>\n",
       "      <td>19</td>\n",
       "      <td>61%</td>\n",
       "      <td>1030 hPa</td>\n",
       "    </tr>\n",
       "    <tr>\n",
       "      <th>4</th>\n",
       "      <td>Monday 1 January 2018</td>\n",
       "      <td>02:00</td>\n",
       "      <td>Clear</td>\n",
       "      <td>8°</td>\n",
       "      <td>20</td>\n",
       "      <td>57%</td>\n",
       "      <td>1030 hPa</td>\n",
       "    </tr>\n",
       "  </tbody>\n",
       "</table>\n",
       "</div>"
      ],
      "text/plain": [
       "                     Day   Hour Condition Temperature Wind Relative_hum  \\\n",
       "0  Monday 1 January 2018  00:00     Clear          8°   19          57%   \n",
       "1  Monday 1 January 2018  00:30     Clear          7°   15          66%   \n",
       "2  Monday 1 January 2018  01:00     Clear          7°   20          66%   \n",
       "3  Monday 1 January 2018  01:30     Clear          8°   19          61%   \n",
       "4  Monday 1 January 2018  02:00     Clear          8°   20          57%   \n",
       "\n",
       "   Pressure  \n",
       "0  1030 hPa  \n",
       "1  1030 hPa  \n",
       "2  1030 hPa  \n",
       "3  1030 hPa  \n",
       "4  1030 hPa  "
      ]
     },
     "execution_count": 70,
     "metadata": {},
     "output_type": "execute_result"
    }
   ],
   "source": [
    "metar_2018.head()"
   ]
  },
  {
   "cell_type": "code",
   "execution_count": 52,
   "id": "9fe99e00",
   "metadata": {},
   "outputs": [],
   "source": [
    "lista2020 = list(metar_2020.Day.unique())"
   ]
  },
  {
   "cell_type": "code",
   "execution_count": 56,
   "id": "4a1bdd5e",
   "metadata": {},
   "outputs": [],
   "source": [
    "lista2021 = list(metar_2021.Day.unique())"
   ]
  },
  {
   "cell_type": "code",
   "execution_count": 65,
   "id": "57de42fe",
   "metadata": {},
   "outputs": [],
   "source": [
    "lista2022 = list(metar_2022.Day.unique())"
   ]
  },
  {
   "cell_type": "markdown",
   "id": "23b887ef",
   "metadata": {},
   "source": [
    "## Finalmente se exportan a un archivo *.csv* cada uno de los DataFrames mensuales"
   ]
  },
  {
   "cell_type": "code",
   "execution_count": 18,
   "id": "bf525e3f",
   "metadata": {},
   "outputs": [],
   "source": [
    "metar_2018.to_csv(\"../data/metars/metars_2018_347.csv\", index=False)"
   ]
  },
  {
   "cell_type": "code",
   "execution_count": 34,
   "id": "705a6ca9",
   "metadata": {},
   "outputs": [],
   "source": [
    "metar_2019.to_csv(\"../data/metars/metars_2019_347.csv\", index=False)"
   ]
  },
  {
   "cell_type": "code",
   "execution_count": 45,
   "id": "ed00fad6",
   "metadata": {},
   "outputs": [],
   "source": [
    "metar_2020.to_csv(\"../data/metars/metars_2020_361.csv\", index=False)"
   ]
  },
  {
   "cell_type": "code",
   "execution_count": 57,
   "id": "eb9bc043",
   "metadata": {},
   "outputs": [],
   "source": [
    "metar_2021.to_csv(\"../data/metars/metars_2021_359.csv\", index=False)"
   ]
  },
  {
   "cell_type": "code",
   "execution_count": 66,
   "id": "49900847",
   "metadata": {},
   "outputs": [],
   "source": [
    "metar_2022.to_csv(\"../data/metars/metars_2022_359.csv\", index=False)"
   ]
  },
  {
   "cell_type": "code",
   "execution_count": 71,
   "id": "1f861b29",
   "metadata": {},
   "outputs": [],
   "source": [
    "metar_2017 = pd.read_csv(\"../data/metars/metars_2017.csv\")"
   ]
  },
  {
   "cell_type": "code",
   "execution_count": 137,
   "id": "00e43473",
   "metadata": {},
   "outputs": [],
   "source": [
    "metar_2018 = pd.read_csv(\"../data/metars/metars_2018_347.csv\")"
   ]
  },
  {
   "cell_type": "code",
   "execution_count": 169,
   "id": "5e4e0361",
   "metadata": {},
   "outputs": [],
   "source": [
    "metar_2019 = pd.read_csv(\"../data/metars/metars_2019_347.csv\")"
   ]
  },
  {
   "cell_type": "markdown",
   "id": "2af9e755",
   "metadata": {},
   "source": [
    "# Concat"
   ]
  },
  {
   "cell_type": "code",
   "execution_count": 217,
   "id": "ae8d3e31",
   "metadata": {},
   "outputs": [],
   "source": [
    "metars_18_22 = pd.concat([metar_2017,metar_2018,metar_2019,metar_2020,metar_2021,metar_2022])"
   ]
  },
  {
   "cell_type": "code",
   "execution_count": 221,
   "id": "0841a0f1",
   "metadata": {},
   "outputs": [],
   "source": [
    "metars_18_22=metars_18_22.drop_duplicates()"
   ]
  },
  {
   "cell_type": "code",
   "execution_count": 223,
   "id": "587b9aa3",
   "metadata": {},
   "outputs": [],
   "source": [
    "metars_18_22 = metars_18_22[metars_18_22.Pressure.notna()]"
   ]
  },
  {
   "cell_type": "code",
   "execution_count": 224,
   "id": "12e231ca",
   "metadata": {},
   "outputs": [],
   "source": [
    "metars_18_22 = metars_18_22.reset_index(drop = True)"
   ]
  },
  {
   "cell_type": "code",
   "execution_count": 230,
   "id": "48a3df37",
   "metadata": {},
   "outputs": [
    {
     "data": {
      "text/plain": [
       "1839"
      ]
     },
     "execution_count": 230,
     "metadata": {},
     "output_type": "execute_result"
    }
   ],
   "source": [
    "len(list(metars_18_22.Day.unique()))"
   ]
  },
  {
   "cell_type": "code",
   "execution_count": 264,
   "id": "7455b623",
   "metadata": {},
   "outputs": [
    {
     "data": {
      "text/plain": [
       "1"
      ]
     },
     "execution_count": 264,
     "metadata": {},
     "output_type": "execute_result"
    }
   ],
   "source": [
    "# Convertir la lista existente a objetos datetime\n",
    "dias_existente = list(metars_18_22.Day.unique())\n",
    "dias_existente = [datetime.strptime(dia, '%A %d %B %Y') for dia in dias_existente]\n",
    "\n",
    "# Rango de fechas deseado\n",
    "fecha_inicio = datetime(2017, 11, 1)\n",
    "fecha_fin = datetime(2022, 12, 31)\n",
    "\n",
    "# Generar lista completa de días entre las fechas\n",
    "dias_completo = [fecha_inicio + timedelta(days=d) for d in range((fecha_fin - fecha_inicio).days + 1)]\n",
    "\n",
    "# Filtrar los días que no están en la lista existente\n",
    "dias_faltantes = [dia.strftime('%A %d %B %Y') for dia in dias_completo if dia not in dias_existente]\n",
    "len(dias_faltantes)"
   ]
  },
  {
   "cell_type": "code",
   "execution_count": 265,
   "id": "62e9d648",
   "metadata": {},
   "outputs": [
    {
     "data": {
      "text/plain": [
       "['https://en.tutiempo.net/records/lemd/14-october-2020.html']"
      ]
     },
     "execution_count": 265,
     "metadata": {},
     "output_type": "execute_result"
    }
   ],
   "source": [
    "# Convertir la lista de días al formato deseado\n",
    "dias_formato_fecha = [datetime.strptime(dia, '%A %d %B %Y').strftime('%d-%B-%Y').lower() for dia in dias_faltantes]\n",
    "\n",
    "# Eliminar el 0 delante de los días del 1 al 9\n",
    "dias_formato_fecha = [fecha[1:] if fecha.startswith('0') else fecha for fecha in dias_formato_fecha]\n",
    "\n",
    "# Generar enlaces\n",
    "enlaces2 = [f\"https://en.tutiempo.net/records/lemd/{formato_fecha}.html\" for formato_fecha in dias_formato_fecha]\n",
    "enlaces2"
   ]
  },
  {
   "cell_type": "code",
   "execution_count": 257,
   "id": "e19da5e5",
   "metadata": {},
   "outputs": [
    {
     "name": "stdout",
     "output_type": "stream",
     "text": [
      "96\n"
     ]
    }
   ],
   "source": [
    "metar_res2 = pd.concat(lst_df)\n",
    "print(len(metar_res2))"
   ]
  },
  {
   "cell_type": "code",
   "execution_count": 258,
   "id": "281f93c5",
   "metadata": {},
   "outputs": [
    {
     "data": {
      "text/plain": [
       "2"
      ]
     },
     "execution_count": 258,
     "metadata": {},
     "output_type": "execute_result"
    }
   ],
   "source": [
    "len(metar_res2.Day.value_counts())"
   ]
  },
  {
   "cell_type": "code",
   "execution_count": 248,
   "id": "9b0f3c1b",
   "metadata": {},
   "outputs": [],
   "source": [
    "# metar_res1.Day.value_counts()"
   ]
  },
  {
   "cell_type": "code",
   "execution_count": 259,
   "id": "90ec4ddc",
   "metadata": {},
   "outputs": [],
   "source": [
    "metar_res2 = metar_res2.drop_duplicates()"
   ]
  },
  {
   "cell_type": "code",
   "execution_count": 260,
   "id": "035fe2f9",
   "metadata": {},
   "outputs": [],
   "source": [
    "metar_res2 = metar_res2[metar_res1.Pressure.notna()]"
   ]
  },
  {
   "cell_type": "code",
   "execution_count": 261,
   "id": "1249f59f",
   "metadata": {},
   "outputs": [],
   "source": [
    "metar_res2 = metar_res2.reset_index(drop = True)"
   ]
  },
  {
   "cell_type": "code",
   "execution_count": 263,
   "id": "0f6628c6",
   "metadata": {},
   "outputs": [],
   "source": [
    "metars_18_22 = pd.concat([metars_18_22,metar_res2])"
   ]
  },
  {
   "cell_type": "markdown",
   "id": "899232ef",
   "metadata": {},
   "source": [
    "# 2022"
   ]
  },
  {
   "cell_type": "code",
   "execution_count": 205,
   "id": "337c755c",
   "metadata": {},
   "outputs": [],
   "source": [
    "metar_2022 = metar_2022.drop_duplicates()"
   ]
  },
  {
   "cell_type": "code",
   "execution_count": 206,
   "id": "675371ef",
   "metadata": {},
   "outputs": [],
   "source": [
    "metar_2022 = metar_2022[metar_2022.Pressure.notna()]"
   ]
  },
  {
   "cell_type": "code",
   "execution_count": 207,
   "id": "9c68c0ea",
   "metadata": {},
   "outputs": [],
   "source": [
    "metar_2022 = metar_2022.reset_index(drop = True)"
   ]
  },
  {
   "cell_type": "code",
   "execution_count": 216,
   "id": "a53b6e95",
   "metadata": {},
   "outputs": [],
   "source": [
    "# metar_2022.Day.value_counts()"
   ]
  },
  {
   "cell_type": "code",
   "execution_count": 212,
   "id": "2ce31dee",
   "metadata": {},
   "outputs": [],
   "source": [
    "metar_2022.Day.loc[4057:4100] = \"Sunday 27 March 2022\""
   ]
  },
  {
   "cell_type": "code",
   "execution_count": 210,
   "id": "aba68929",
   "metadata": {},
   "outputs": [],
   "source": [
    "metar_2022.drop([4101,4102], inplace=True)"
   ]
  },
  {
   "cell_type": "code",
   "execution_count": 214,
   "id": "0d2a2d4d",
   "metadata": {},
   "outputs": [],
   "source": [
    "# metar_2022[metar_2022.Day == \"Sunday 27 March 2022\"]"
   ]
  },
  {
   "cell_type": "markdown",
   "id": "00a54db8",
   "metadata": {},
   "source": [
    "# 2021"
   ]
  },
  {
   "cell_type": "code",
   "execution_count": 186,
   "id": "3233d037",
   "metadata": {},
   "outputs": [],
   "source": [
    "metar_2021 = metar_2021.drop_duplicates()"
   ]
  },
  {
   "cell_type": "code",
   "execution_count": 187,
   "id": "67c9a444",
   "metadata": {},
   "outputs": [],
   "source": [
    "metar_2021 = metar_2021[metar_2021.Pressure.notna()]"
   ]
  },
  {
   "cell_type": "code",
   "execution_count": 188,
   "id": "e8c03cf7",
   "metadata": {},
   "outputs": [],
   "source": [
    "metar_2021 = metar_2021.reset_index(drop = True)"
   ]
  },
  {
   "cell_type": "code",
   "execution_count": 204,
   "id": "6b68643b",
   "metadata": {},
   "outputs": [],
   "source": [
    "# metar_2021.Day.value_counts()"
   ]
  },
  {
   "cell_type": "code",
   "execution_count": 191,
   "id": "a4e78e97",
   "metadata": {},
   "outputs": [],
   "source": [
    "metar_2021.drop([4145,4146], inplace=True)"
   ]
  },
  {
   "cell_type": "code",
   "execution_count": 199,
   "id": "88c536cc",
   "metadata": {},
   "outputs": [],
   "source": [
    "metar_2021.Day.loc[4101:4144] = \"Sunday 28 March 2021\""
   ]
  },
  {
   "cell_type": "code",
   "execution_count": 202,
   "id": "536c270d",
   "metadata": {},
   "outputs": [],
   "source": [
    "# metar_2021[metar_2021.Day == \"Sunday 28 March 2021\"]"
   ]
  },
  {
   "cell_type": "markdown",
   "id": "ea998d5d",
   "metadata": {},
   "source": [
    "# 2020"
   ]
  },
  {
   "cell_type": "code",
   "execution_count": 155,
   "id": "53308f42",
   "metadata": {},
   "outputs": [],
   "source": [
    "metar_2020 = metar_2020.drop_duplicates()"
   ]
  },
  {
   "cell_type": "code",
   "execution_count": 156,
   "id": "fcded2eb",
   "metadata": {},
   "outputs": [],
   "source": [
    "metar_2020 = metar_2020[metar_2020.Pressure.notna()]"
   ]
  },
  {
   "cell_type": "code",
   "execution_count": 157,
   "id": "d666f4ee",
   "metadata": {},
   "outputs": [],
   "source": [
    "metar_2020 = metar_2020.reset_index(drop = True)"
   ]
  },
  {
   "cell_type": "code",
   "execution_count": 196,
   "id": "7ecaa4af",
   "metadata": {},
   "outputs": [],
   "source": [
    "# metar_2020.Day.value_counts()"
   ]
  },
  {
   "cell_type": "code",
   "execution_count": 168,
   "id": "951e9f17",
   "metadata": {},
   "outputs": [],
   "source": [
    "# metar_2020[metar_2020.Day == \"Sunday 29 March 2020\"]"
   ]
  },
  {
   "cell_type": "code",
   "execution_count": 160,
   "id": "264042ce",
   "metadata": {},
   "outputs": [],
   "source": [
    "metar_2020.drop([4266,4267], inplace=True)"
   ]
  },
  {
   "cell_type": "code",
   "execution_count": 163,
   "id": "29fd5f4f",
   "metadata": {},
   "outputs": [],
   "source": [
    "metar_2020.Day.loc[4222:4265] = \"Sunday 29 March 2020\""
   ]
  },
  {
   "cell_type": "markdown",
   "id": "148b5804",
   "metadata": {},
   "source": [
    "# 2019"
   ]
  },
  {
   "cell_type": "code",
   "execution_count": 170,
   "id": "321d581f",
   "metadata": {},
   "outputs": [],
   "source": [
    "metar_2019 = metar_2019.drop_duplicates()"
   ]
  },
  {
   "cell_type": "code",
   "execution_count": 171,
   "id": "b3df04b1",
   "metadata": {},
   "outputs": [],
   "source": [
    "metar_2019 = metar_2019[metar_2019.Pressure.notna()]"
   ]
  },
  {
   "cell_type": "code",
   "execution_count": 181,
   "id": "e29c5504",
   "metadata": {},
   "outputs": [],
   "source": [
    "metar_2019 = metar_2019.reset_index(drop = True)"
   ]
  },
  {
   "cell_type": "code",
   "execution_count": 180,
   "id": "415200da",
   "metadata": {},
   "outputs": [],
   "source": [
    "metar_2019.Day.loc[4173:4218] = \"Monday 1 April 2019\""
   ]
  },
  {
   "cell_type": "code",
   "execution_count": 193,
   "id": "0765254f",
   "metadata": {},
   "outputs": [],
   "source": [
    "# metar_2019[metar_2019.Day == \"Monday 1 April 2019\"]"
   ]
  },
  {
   "cell_type": "code",
   "execution_count": 194,
   "id": "08770b24",
   "metadata": {},
   "outputs": [],
   "source": [
    "# metar_2019.Day.value_counts()"
   ]
  },
  {
   "cell_type": "markdown",
   "id": "52afe98d",
   "metadata": {},
   "source": [
    "# 2018"
   ]
  },
  {
   "cell_type": "code",
   "execution_count": 138,
   "id": "d8a4a21b",
   "metadata": {},
   "outputs": [],
   "source": [
    "metar_2018 = metar_2018.drop_duplicates()"
   ]
  },
  {
   "cell_type": "code",
   "execution_count": 147,
   "id": "d2dc7fe1",
   "metadata": {},
   "outputs": [],
   "source": [
    "metar_2018 = metar_2018.reset_index(drop = True)"
   ]
  },
  {
   "cell_type": "code",
   "execution_count": 146,
   "id": "75aecd0e",
   "metadata": {},
   "outputs": [],
   "source": [
    "metar_2018.Day.loc[3947:3990] = \"Sunday 25 March 2018\""
   ]
  },
  {
   "cell_type": "code",
   "execution_count": 144,
   "id": "6da97b12",
   "metadata": {},
   "outputs": [],
   "source": [
    "metar_2018.drop([3991,3992], inplace=True)"
   ]
  },
  {
   "cell_type": "code",
   "execution_count": 195,
   "id": "bed0f764",
   "metadata": {},
   "outputs": [],
   "source": [
    "# metar_2018.Day.value_counts()"
   ]
  },
  {
   "cell_type": "code",
   "execution_count": 139,
   "id": "ab8b61f8",
   "metadata": {},
   "outputs": [],
   "source": [
    "metar_2018 = metar_2018[metar_2018.Pressure.notna()]"
   ]
  },
  {
   "cell_type": "code",
   "execution_count": 154,
   "id": "c28c2ba0",
   "metadata": {},
   "outputs": [
    {
     "name": "stdout",
     "output_type": "stream",
     "text": [
      "<class 'pandas.core.frame.DataFrame'>\n",
      "RangeIndex: 16820 entries, 0 to 16819\n",
      "Data columns (total 7 columns):\n",
      " #   Column        Non-Null Count  Dtype \n",
      "---  ------        --------------  ----- \n",
      " 0   Day           16820 non-null  object\n",
      " 1   Hour          16820 non-null  object\n",
      " 2   Condition     16820 non-null  object\n",
      " 3   Temperature   16820 non-null  object\n",
      " 4   Wind          16820 non-null  object\n",
      " 5   Relative_hum  16820 non-null  object\n",
      " 6   Pressure      16820 non-null  object\n",
      "dtypes: object(7)\n",
      "memory usage: 7.6 MB\n"
     ]
    }
   ],
   "source": [
    "metar_2019.info(memory_usage = \"deep\")"
   ]
  },
  {
   "cell_type": "markdown",
   "id": "9e8e1e05",
   "metadata": {},
   "source": [
    "# Final"
   ]
  },
  {
   "cell_type": "code",
   "execution_count": 269,
   "id": "87113753",
   "metadata": {},
   "outputs": [
    {
     "data": {
      "text/plain": [
       "(91168, 7)"
      ]
     },
     "execution_count": 269,
     "metadata": {},
     "output_type": "execute_result"
    }
   ],
   "source": [
    "metars_18_22.shape"
   ]
  },
  {
   "cell_type": "code",
   "execution_count": 271,
   "id": "a64610c0",
   "metadata": {},
   "outputs": [],
   "source": [
    "metars_18_22.to_csv(\"../data/metars/metars_2017_2022.csv\", index=False)"
   ]
  },
  {
   "cell_type": "code",
   "execution_count": null,
   "id": "86f651e8",
   "metadata": {},
   "outputs": [],
   "source": []
  }
 ],
 "metadata": {
  "kernelspec": {
   "display_name": "Python 3 (ipykernel)",
   "language": "python",
   "name": "python3"
  },
  "language_info": {
   "codemirror_mode": {
    "name": "ipython",
    "version": 3
   },
   "file_extension": ".py",
   "mimetype": "text/x-python",
   "name": "python",
   "nbconvert_exporter": "python",
   "pygments_lexer": "ipython3",
   "version": "3.11.4"
  }
 },
 "nbformat": 4,
 "nbformat_minor": 5
}
