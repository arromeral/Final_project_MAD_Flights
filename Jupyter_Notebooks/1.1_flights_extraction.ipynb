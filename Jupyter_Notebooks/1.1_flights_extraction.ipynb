{
 "cells": [
  {
   "cell_type": "markdown",
   "id": "3d28d5d9",
   "metadata": {},
   "source": [
    "# EXTRACCIÓN DE VUELOS"
   ]
  },
  {
   "cell_type": "markdown",
   "id": "d321fea8",
   "metadata": {},
   "source": [
    "## En este Notebook se va a desarrollar el proceso de extracción de todos los vuelos salientes del *Aeropuerto Adolfo Suárez Madrid-Barajas* en el periodo comprendido entre el 01-11-2017 y el 31-10-2023, es decir, 1 año completo.\n",
    "\n",
    "## Para ello se va a utilizar la técnica de extracción de datos \"webscrapping\" sobre la web [flightera](https://www.flightera.net/en/airport/Madrid/LEMD/departure) que mantiene registros de vuelos desde al menos el año 2017."
   ]
  },
  {
   "cell_type": "markdown",
   "id": "43791a0e",
   "metadata": {},
   "source": [
    "### Las librerías que se van a emplear principalmente para el proceso son:\n",
    "- **selenium** \n",
    "- **pandas** \n",
    "- **joblib**"
   ]
  },
  {
   "cell_type": "code",
   "execution_count": 1,
   "id": "bb6a426e",
   "metadata": {},
   "outputs": [],
   "source": [
    "from selenium import webdriver\n",
    "from selenium.webdriver.common.by import By\n",
    "from selenium.webdriver.chrome.service import Service\n",
    "from selenium.webdriver.common.keys import Keys\n",
    "from selenium.webdriver.chrome.options import Options\n",
    "from datetime import datetime, timedelta\n",
    "import pandas as pd\n",
    "import re"
   ]
  },
  {
   "cell_type": "code",
   "execution_count": 2,
   "id": "aa1612ca",
   "metadata": {},
   "outputs": [],
   "source": [
    "import threading\n",
    "import time\n",
    "import numpy as np\n",
    "import pylab as plt   \n",
    "import seaborn as sns\n",
    "from selenium.webdriver.common.by import By\n",
    "from selenium.webdriver.support.ui import WebDriverWait\n",
    "from selenium.webdriver.support import expected_conditions as EC\n",
    "from datetime import datetime, timedelta\n"
   ]
  },
  {
   "cell_type": "code",
   "execution_count": 3,
   "id": "9c26e4c9",
   "metadata": {},
   "outputs": [],
   "source": [
    "from joblib import Parallel, delayed\n",
    "from selenium import webdriver\n",
    "from selenium.webdriver.common.by import By\n",
    "from selenium.webdriver.support.ui import Select   # seleccion de un dropdown\n",
    "from selenium.webdriver.chrome.options import Options\n",
    "from selenium.webdriver.common.keys import Keys\n",
    "from selenium.webdriver.support.ui import WebDriverWait\n",
    "import time\n",
    "import pandas as pd\n",
    "import multiprocessing as mp\n",
    "import warnings\n",
    "warnings.filterwarnings('ignore')\n",
    "\n",
    "from joblib._parallel_backends import LokyBackend\n",
    "import asyncio\n",
    "\n",
    "from tqdm.notebook import tqdm\n"
   ]
  },
  {
   "cell_type": "markdown",
   "id": "e394b8e4",
   "metadata": {},
   "source": [
    "# Se generan los links de cada una de las páginas que se van a escrapear.\n",
    "\n",
    "El link incluye la fecha del día a escrapear y la hora 00:00 para empezar a recoger desde el primer vuelo del día."
   ]
  },
  {
   "cell_type": "code",
   "execution_count": 5,
   "id": "3492e062",
   "metadata": {},
   "outputs": [],
   "source": [
    "# # Definir las fechas de inicio y fin\n",
    "# start_date = datetime(2017, 11, 1)\n",
    "# end_date = datetime(2022, 11, 1)\n",
    "\n",
    "# # Función para generar enlaces\n",
    "# def generate_links(start_date, end_date):\n",
    "#     links = []\n",
    "    \n",
    "#     # Iterar sobre las fechas en el rango\n",
    "#     current_date = start_date\n",
    "#     while current_date <= end_date:\n",
    "#         # Formatear la fecha en el formato deseado\n",
    "#         formatted_date = current_date.strftime(\"%Y-%m-%d\")\n",
    "\n",
    "#         # Construir el enlace y agregarlo a la lista\n",
    "#         link = f\"https://www.flightera.net/en/airport/Madrid/LEMD/departure/{formatted_date}%2000_00\"\n",
    "#         links.append(link)\n",
    "\n",
    "#         # Avanzar a la siguiente fecha\n",
    "#         current_date += timedelta(days=1)\n",
    "\n",
    "#     return links\n",
    "\n",
    "# # Generar la lista de enlaces\n",
    "# links = generate_links(start_date, end_date)\n"
   ]
  },
  {
   "cell_type": "code",
   "execution_count": 10,
   "id": "4b9fc321",
   "metadata": {},
   "outputs": [],
   "source": [
    "links = ['https://www.flightera.net/en/airport/Madrid/LEMD/departure/2017-11-01%2000_00',\n",
    " 'https://www.flightera.net/en/airport/Madrid/LEMD/departure/2018-1-01%2000_00',\n",
    " 'https://www.flightera.net/en/airport/Madrid/LEMD/departure/2019-1-01%2000_00',\n",
    " 'https://www.flightera.net/en/airport/Madrid/LEMD/departure/2020-1-01%2000_00',\n",
    " 'https://www.flightera.net/en/airport/Madrid/LEMD/departure/2021-1-01%2000_00',\n",
    " 'https://www.flightera.net/en/airport/Madrid/LEMD/departure/2022-1-01%2000_00']"
   ]
  },
  {
   "cell_type": "code",
   "execution_count": 9,
   "id": "f3938190",
   "metadata": {},
   "outputs": [
    {
     "data": {
      "text/plain": [
       "'2017'"
      ]
     },
     "execution_count": 9,
     "metadata": {},
     "output_type": "execute_result"
    }
   ],
   "source": [
    "match = re.search(r'\\d{4}', links[0])\n",
    "match = match.group()\n",
    "match"
   ]
  },
  {
   "cell_type": "markdown",
   "id": "8a66becd",
   "metadata": {},
   "source": [
    "## Para evitar problemas en el proceso de extracción se van a activar las opciones de **adblock** (previa descarga del driver correspondiente) y de las **cockies**."
   ]
  },
  {
   "cell_type": "code",
   "execution_count": null,
   "id": "70eea95a",
   "metadata": {},
   "outputs": [],
   "source": [
    "# Options\n",
    "opciones=Options()\n",
    "opciones.add_extension('drivers/adblock.crx')       # adblocker\n",
    "opciones.add_argument('cookies=cookies')    # man"
   ]
  },
  {
   "cell_type": "code",
   "execution_count": null,
   "id": "41bd0c02",
   "metadata": {},
   "outputs": [],
   "source": [
    "flights =[]"
   ]
  },
  {
   "cell_type": "markdown",
   "id": "04628a35",
   "metadata": {},
   "source": [
    "# La siguiente función desarrolla todo el proceso de extracción de datos para cada uno de los links generados. El proceso es el siguiente.\n",
    "\n",
    "    - En cada una de las páginas de la web hay 35 registros de vuelos.\n",
    "    - La función entra en la página del link donde se encuentran los primeros 35 vuelos de ese año.\n",
    "    - Genera una tabla vacía y acepta las cookies.\n",
    "    - Extrae los vuelos de la primera página del año y los añade a la tabla.\n",
    "    - Clicka sobre *Later Flights* y cierra un pop-up que aparece siempre tras clickar por primera vez.\n",
    "    - A partir de aquí inicializa un bucle repitiendo el proceso anterior hasta que el año en cuestión deja de aparecer en el link.\n",
    "    -Una vez concluido devuelve la lista con todos los registros para ese día."
   ]
  },
  {
   "cell_type": "code",
   "execution_count": null,
   "id": "4b94a7a3",
   "metadata": {},
   "outputs": [],
   "source": [
    "def extraer(url):\n",
    "    table = []  # Inicializa table como una lista vacía\n",
    "    #Columnas tras la extracción\n",
    "    #columns = [\"bad_date\",\"1\", \"status\",\"cod_flight\",\"airliner\", \"destiny\", \"depart\",\"delay_d\",\"8\",\"arrival\",\"delay_a\",\"duration\",\"12\"]  # Añade las columnas\n",
    "    #Fecha de la URL\n",
    "     \n",
    "    match = re.search(r'\\d{4}', url)\n",
    "    match = match.group()\n",
    "    try:\n",
    "        #Opciones\n",
    "        opciones=Options()\n",
    "        opciones.add_extension('drivers/adblock.crx')       # adblocker\n",
    "        opciones.add_argument('cookies=cookies')    # man\n",
    "#         opciones.add_argument(f'--load-extension={drivers/adblock.crx}')\n",
    "        #Inicializo el drive\n",
    "        driver = webdriver.Chrome(options=opciones)\n",
    "        driver.get(url)\n",
    "        wait = WebDriverWait(driver, 20)\n",
    "        time.sleep(35)\n",
    "        \n",
    "        #Aceptar cookies\n",
    "        \n",
    "        aceptar = driver.find_element(By.XPATH,'//*[@id=\"qc-cmp2-ui\"]/div[2]/div/button[2]')\n",
    "        aceptar.click()\n",
    "        \n",
    "        # Extraer la información la primera vez\n",
    "        table += [flight.text.split('\\n') for flight in driver.find_elements(By.XPATH, '//table//tbody//tr')[1:]]\n",
    "        time.sleep(2)\n",
    "        \n",
    "        # Clickar en el botón Later Flights para abrir una nueva URL\n",
    "        aceptar = wait.until(EC.presence_of_element_located((By.XPATH, '/html/body/div[3]/main/div[6]/div[2]/a')))\n",
    "        #aceptar = driver.find_element(By.XPATH, '/html/body/div[3]/main/div[6]/div[2]/a')\n",
    "        aceptar.click()\n",
    "        time.sleep(2)\n",
    "        \n",
    "        # Clickar en boton popup \n",
    "        aceptar2 = driver.find_element(By.XPATH, '/html/body/div[9]/div/div/div/div/div/div[3]/span[1]/button')\n",
    "        aceptar2.click()\n",
    "        time.sleep(2)\n",
    "               \n",
    "        aceptar = driver.find_element(By.XPATH,'/html/body/div[2]/main/div[6]/div[2]/a')\n",
    "        aceptar.click()\n",
    "        time.sleep(2)\n",
    "        # Bucle while hasta que la fecha de cada link desaparezca de la URL\n",
    "\n",
    "        while match in driver.current_url:\n",
    "            try:\n",
    "                #Extraer datos\n",
    "                table += [flight.text.split('\\n') for flight in driver.find_elements(By.XPATH, '//table//tbody//tr')[1:]]\n",
    "                # Clickar en el botón Later Flights para abrir una nueva URL\n",
    "                aceptar = driver.find_element(By.XPATH,'/html/body/div[2]/main/div[6]/div[2]/a')\n",
    "                aceptar.click()\n",
    "        \n",
    "            except:\n",
    "                # Clickar en boton popup si aparece\n",
    "                aceptar2 = driver.find_element(By.XPATH,'/html/body/div[9]/div/div/div/div/div/div[3]/span[1]/button')\n",
    "                aceptar2.click()       \n",
    "\n",
    "        return table  # Devuelve un DataFrame con los datos de ese día \n",
    "        \n",
    "    except Exception as e:\n",
    "        print(f\"Error: {e}\")\n",
    "        print(f\"Error en la URL: {url}\")\n",
    "        \n",
    "        # En caso de error, simplemente se devolverá la lista vacía 'table'\n",
    "        return table \n",
    "    finally:\n",
    "        driver.quit()"
   ]
  },
  {
   "cell_type": "markdown",
   "id": "d59f32c6",
   "metadata": {},
   "source": [
    "# La siguiente celda paraleliza el proceso de scrapeo anterior para poder escrapear los 6 años a la vez "
   ]
  },
  {
   "cell_type": "code",
   "execution_count": null,
   "id": "d9a7f339",
   "metadata": {},
   "outputs": [],
   "source": [
    "%%time\n",
    "paralelo = Parallel(n_jobs=6, verbose=True)\n",
    "\n",
    "flights = paralelo(delayed(extraer)(url) for url in tqdm(links))"
   ]
  },
  {
   "cell_type": "markdown",
   "id": "9f687769",
   "metadata": {},
   "source": [
    "# Se convierte la lista de listas anterior en un dataframe"
   ]
  },
  {
   "cell_type": "code",
   "execution_count": 12,
   "id": "a5bacdde",
   "metadata": {},
   "outputs": [],
   "source": [
    "flights = [elemento for sublist in flights for elemento in sublist]\n",
    "len(flights)"
   ]
  },
  {
   "cell_type": "code",
   "execution_count": null,
   "id": "27ff3d00",
   "metadata": {},
   "outputs": [],
   "source": [
    "pd.set_option('display.max_rows', None)\n",
    "columns =[\"bad_date\",\"1\", \"status\",\"cod_flight\",\"airliner\", \"destiny\", \"depart\",\"delay_d\",\"8\",\"arrival\",\"delay_a\",\"duration\",'12']"
   ]
  },
  {
   "cell_type": "code",
   "execution_count": null,
   "id": "80820ef2",
   "metadata": {},
   "outputs": [],
   "source": [
    "flights = pd.DataFrame(flights, columns=columns)\n",
    "\n"
   ]
  },
  {
   "cell_type": "code",
   "execution_count": null,
   "id": "04fbb73b",
   "metadata": {},
   "outputs": [],
   "source": [
    "flights.head()"
   ]
  },
  {
   "cell_type": "markdown",
   "id": "71641167",
   "metadata": {},
   "source": [
    "## Guardamos los datos en crudo en un archivo *.csv*"
   ]
  },
  {
   "cell_type": "code",
   "execution_count": null,
   "id": "bd1f5d20",
   "metadata": {},
   "outputs": [],
   "source": [
    "flights.to_csv(\"../data/flights/raw_flights3.csv\", index=False)"
   ]
  }
 ],
 "metadata": {
  "kernelspec": {
   "display_name": "Python 3 (ipykernel)",
   "language": "python",
   "name": "python3"
  },
  "language_info": {
   "codemirror_mode": {
    "name": "ipython",
    "version": 3
   },
   "file_extension": ".py",
   "mimetype": "text/x-python",
   "name": "python",
   "nbconvert_exporter": "python",
   "pygments_lexer": "ipython3",
   "version": "3.11.4"
  }
 },
 "nbformat": 4,
 "nbformat_minor": 5
}
